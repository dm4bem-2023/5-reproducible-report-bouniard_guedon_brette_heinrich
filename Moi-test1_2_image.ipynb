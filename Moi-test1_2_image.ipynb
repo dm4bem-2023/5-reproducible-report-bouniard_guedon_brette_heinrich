{
 "cells": [
  {
   "attachments": {},
   "cell_type": "markdown",
   "metadata": {},
   "source": []
  },
  {
   "attachments": {},
   "cell_type": "markdown",
   "metadata": {},
   "source": [
    "# Dynamic Models for Building Energy Management\n",
    "## 1st of June\n",
    "\n",
    "Léa Brette\n",
    "Antoine Guédon\n",
    "Adrian Heinrich-Phan\n",
    "Florian Bouniard"
   ]
  },
  {
   "attachments": {},
   "cell_type": "markdown",
   "metadata": {},
   "source": [
    "## Schema of our building\n",
    "\n"
   ]
  },
  {
   "cell_type": "markdown",
   "metadata": {},
   "source": [
    "![\"Building\"](Bat.png)"
   ]
  },
  {
   "attachments": {},
   "cell_type": "markdown",
   "metadata": {},
   "source": [
    "## Dimensions of the building\n",
    "\n",
    "Here, we compute the dimensions of our 2 rooms:\n",
    "we have chosen to take into account only one wall in contact with the rest of the chalet and one wall with the 2m² window in contact with the outside"
   ]
  },
  {
   "cell_type": "code",
   "execution_count": 1,
   "metadata": {},
   "outputs": [],
   "source": [
    "l_br=3 #lenght of the bedroom\n",
    "L_br=4 #width of the bedroom\n",
    "l_d= 3 #lenght of the dressing\n",
    "L_d= 2 #width of the dressing\n",
    "height= 3   #height under ceiling\n",
    "\n",
    "S_br= l_br*L_br  #total surface bedroom\n",
    "S_d= l_d*L_d    #total surface dressing\n",
    "\n",
    "S_glass= 2   # surface of the glass taken into account in the study\n",
    "\n",
    "S_wall_3=l_d*height  # surface of the wall between the dressing and the bedroom\n",
    "S_wall_4=L_d*height  # surface of the wall of the dressing\n",
    "S_wall_2= L_br*height # surface de droite \n",
    "S_wall_1= l_br*height - S_glass #surface du haut\n",
    " \n",
    "\n",
    "\n",
    "\n",
    "h_in = 8 #convection coefficient for inside, W/m² K;\n",
    "h_out= 25 #convection coefficient for outside, W/m² K;\n",
    "T_out = 10   #temperature outside, °C;\n",
    "T_in = 20   #temperature inside, °C;\n",
    "T_i0 = T_out +273 #temp out, K;\n",
    "\n",
    "\n",
    "σ = σ = 5.67e-8     # W/(m²⋅K⁴) Stefan-Bolzmann constant\n"
   ]
  },
  {
   "attachments": {},
   "cell_type": "markdown",
   "metadata": {},
   "source": [
    "## Desciption of the building\n"
   ]
  },
  {
   "attachments": {},
   "cell_type": "markdown",
   "metadata": {},
   "source": [
    "### Thermo-physical properties"
   ]
  },
  {
   "cell_type": "code",
   "execution_count": 2,
   "metadata": {},
   "outputs": [],
   "source": [
    "#Sapin\n",
    "wood = {'Conductivity': 0.06,\n",
    "            'Density': 450,\n",
    "            'Specific heat': 2300,\n",
    "            'Width':0.2 ,\n",
    "            'Surface': S_wall_1+S_wall_2+S_wall_3+S_wall_4\n",
    "             }\n",
    "\n",
    "whool = {'Conductivity': 0.034,\n",
    "              'Density': 40, \n",
    "              'Specific heat': 1030,\n",
    "              'Width':0.25 ,\n",
    "              'Surface': S_wall_1+S_wall_2+S_wall_3+S_wall_4 }\n",
    "\n",
    "glass = {'Conductivity': 1 ,\n",
    "         'Density': 2500,\n",
    "         'Specific heat': 0.8,\n",
    "         'Width':0.04 ,\n",
    "         'Surface': S_glass}\n",
    "\n",
    "air = {'Conductivity': 0.024 ,\n",
    "         'Density': 1.293,\n",
    "         'Specific heat': 1005,\n",
    "         'Width':0.1 ,\n",
    "         'Surface': S_glass }   \n",
    "          "
   ]
  },
  {
   "attachments": {},
   "cell_type": "markdown",
   "metadata": {},
   "source": [
    "### Radiative properties"
   ]
  },
  {
   "cell_type": "code",
   "execution_count": 3,
   "metadata": {},
   "outputs": [],
   "source": [
    "ε_wLW = 0.85    # long wave emmisivity: wall surface (concrete)\n",
    "ε_gLW = 0.90    # long wave emmisivity: glass pyrex\n",
    "α_wood = 0.65    # short wave absortivity: white smooth surface\n",
    "α_glass = 0.38    # short wave absortivity: reflective blue glass\n",
    "τ_gSW = 0.30    # short wave transmitance: reflective blue glass\n",
    "\n",
    "irradiance = 1000   #W/m2\n",
    "\n",
    "Phi0 = S_wall_1*irradiance*α_wood  #wood\n",
    "Phia = S_glass*irradiance*α_glass  #glass"
   ]
  },
  {
   "attachments": {},
   "cell_type": "markdown",
   "metadata": {},
   "source": [
    "# Thermal circuit of our building\n",
    "![](Thermal.png)\n"
   ]
  },
  {
   "attachments": {},
   "cell_type": "markdown",
   "metadata": {},
   "source": [
    "## Thermal conductances"
   ]
  },
  {
   "attachments": {},
   "cell_type": "markdown",
   "metadata": {},
   "source": [
    "### Conduction"
   ]
  },
  {
   "cell_type": "code",
   "execution_count": 4,
   "metadata": {},
   "outputs": [],
   "source": [
    "G_1 = wood['Conductivity'] / wood['Width'] * S_wall_1\n",
    "G_2 = wood['Conductivity'] / wood['Width'] * S_wall_1\n",
    "G_3 = whool['Conductivity'] / whool['Width'] * S_wall_1\n",
    "G_4 = whool['Conductivity'] / whool['Width'] * S_wall_1\n",
    "G_10= wood['Conductivity'] / wood['Width'] * S_wall_2\n",
    "G_17= wood['Conductivity'] / wood['Width'] * S_wall_3\n",
    "G_14= wood['Conductivity'] / wood['Width'] * S_wall_4\n",
    "G_13= glass['Conductivity'] / glass['Width'] * S_glass\n"
   ]
  },
  {
   "attachments": {},
   "cell_type": "markdown",
   "metadata": {},
   "source": [
    "### Convection"
   ]
  },
  {
   "cell_type": "code",
   "execution_count": 5,
   "metadata": {},
   "outputs": [],
   "source": [
    "G_0 = h_out * S_wall_1\n",
    "G_5= h_in * S_wall_1\n",
    "G_11= h_in * S_wall_2\n",
    "G_16= h_in * S_wall_3\n",
    "G_15= h_in * S_wall_4\n",
    "G_6 = h_in * S_wall_3\n",
    "G_9 = h_in * S_glass\n",
    "G_12= h_out * S_glass\n"
   ]
  },
  {
   "attachments": {},
   "cell_type": "markdown",
   "metadata": {},
   "source": [
    "### Long wave radiation"
   ]
  },
  {
   "cell_type": "code",
   "execution_count": 6,
   "metadata": {},
   "outputs": [],
   "source": [
    "#Long Wave radiation\n",
    "Tm = T_in + 273   # K, mean temp for radiative exchange\n",
    "Fwg = glass['Surface']  / wood['Surface']    # view factor wall-glass\n",
    "\n",
    "#Between window and wall_3\n",
    "G7_1 = 4 * σ * Tm**3 * ε_wLW / (1 - ε_wLW) * S_wall_3\n",
    "G7_12 = 4 * σ * Tm**3 * Fwg * S_wall_3 \n",
    "G7_2 = 4 * σ * Tm**3 * ε_gLW / (1 - ε_gLW) * glass['Surface']\n",
    "G_7 = 1 / (1 / G7_1 + 1 / G7_12 + 1 / G7_2) \n",
    "\n",
    "#Between wall_1 and wall_3\n",
    "G8_1 = 4 * σ * Tm**3 * ε_wLW / (1 - ε_wLW) * S_wall_3\n",
    "G8_12 = 4 * σ * Tm**3 * Fwg * S_wall_3 \n",
    "G8_2 = 4 * σ * Tm**3 * ε_gLW / (1 - ε_gLW) * S_wall_1 \n",
    "G_8 = 1 / (1 / G8_1 + 1 / G8_12 + 1 / G8_2)"
   ]
  },
  {
   "attachments": {},
   "cell_type": "markdown",
   "metadata": {},
   "source": [
    "## Thermal capacities"
   ]
  },
  {
   "cell_type": "code",
   "execution_count": 7,
   "metadata": {},
   "outputs": [],
   "source": [
    "C_1 = wood['Density'] * wood['Specific heat'] * wood['Surface'] * wood['Width']      #wood capacity wall 1\n",
    "C_2 = whool['Density'] * whool['Specific heat'] * whool['Surface'] * whool['Width']  #whool capacity wall 1"
   ]
  },
  {
   "attachments": {},
   "cell_type": "markdown",
   "metadata": {},
   "source": [
    "## System of Algebraic Differential Equations (DAE)"
   ]
  },
  {
   "attachments": {},
   "cell_type": "markdown",
   "metadata": {},
   "source": [
    "### Incidence matrix A"
   ]
  },
  {
   "cell_type": "code",
   "execution_count": 8,
   "metadata": {},
   "outputs": [
    {
     "name": "stdout",
     "output_type": "stream",
     "text": [
      "[[ 1.  0.  0.  0.  0.  0.  0.  0.  0.  0.  0.  0.  0.]\n",
      " [-1.  1.  0.  0.  0.  0.  0.  0.  0.  0.  0.  0.  0.]\n",
      " [ 0. -1.  1.  0.  0.  0.  0.  0.  0.  0.  0.  0.  0.]\n",
      " [ 0.  0. -1.  1.  0.  0.  0.  0.  0.  0.  0.  0.  0.]\n",
      " [ 0.  0.  0. -1.  1.  0.  0.  0.  0.  0.  0.  0.  0.]\n",
      " [ 0.  0.  0.  0. -1.  1.  0.  0.  0.  0.  0.  0.  0.]\n",
      " [ 0.  0.  0.  0.  0.  1. -1.  0.  0.  0.  0.  0.  0.]\n",
      " [ 0.  0.  0.  0.  0.  0.  1. -1.  0.  0.  0.  0.  0.]\n",
      " [ 0.  0.  0.  0. -1.  0.  1.  0.  0.  0.  0.  0.  0.]\n",
      " [ 0.  0.  0.  0.  0.  1.  0. -1.  0.  0.  0.  0.  0.]\n",
      " [ 0.  0.  0.  0.  0.  0.  0.  0.  1.  0.  0.  0.  0.]\n",
      " [ 0.  0.  0.  0.  0.  1.  0.  0. -1.  0.  0.  0.  0.]\n",
      " [ 0.  0.  0.  0.  0.  0.  0.  0.  0.  1.  0.  0.  0.]\n",
      " [ 0.  0.  0.  0.  0.  0.  0.  1.  0. -1.  0.  0.  0.]\n",
      " [ 0.  0.  0.  0.  0.  0.  0.  0.  0.  0.  0.  0.  1.]\n",
      " [ 0.  0.  0.  0.  0.  0.  0.  0.  0.  0.  0.  1. -1.]\n",
      " [ 0.  0.  0.  0.  0.  0.  0.  0.  0.  0.  1. -1.  0.]\n",
      " [ 0.  0.  0.  0.  0.  0.  1.  0.  0.  0. -1.  0.  0.]]\n"
     ]
    }
   ],
   "source": [
    "import numpy as np\n",
    "nq = 18                         # n° of branches\n",
    "n0 = 13                         # n° of nodes\n",
    "A = np.zeros([nq,n0])             # n° of branches X n° of nodes\n",
    "A[0, 0] = 1                     # branch 0: -> node 0\n",
    "A[1, 0], A[1, 1] = -1, 1        # branch 1: node 0 -> node 1\n",
    "A[2, 1], A[2, 2] = -1, 1        # branch 2: node 1 -> node 2\n",
    "A[3, 2], A[3, 3] = -1, 1        # branch 3: node 2 -> node 3\n",
    "A[4, 3], A[4, 4] = -1, 1        # branch 4: node 3 -> node 4\n",
    "A[5, 4], A[5, 5] = -1, 1        # branch 5: node 4 -> node 5\n",
    "A[6, 5], A[6, 6] =  1,-1        # branch 6: node 6 -> node 5\n",
    "A[7, 6], A[7, 7] =  1,-1        # branch 7: node 7 -> node 6\n",
    "A[8, 4], A[8, 6] = -1, 1        # branch 8: node 4 -> node 6\n",
    "A[9, 5], A[9, 7] =  1,-1        # branch 9: node 7 -> node 5\n",
    "A[10, 8] = 1                    # branch 10: -> node 8\n",
    "A[11, 5], A[11, 8] = 1, -1      # branch 11: node 8 -> node 5\n",
    "A[12, 9] = 1                    # branch 12: -> node 9\n",
    "A[13, 7], A[13, 9] = 1, -1      # branch 13: node 9 -> node 7\n",
    "A[14, 12] = 1                   # branch 14: -> node 12\n",
    "A[15, 11], A[15, 12] = 1, -1    # branch 15: node 12 -> node 11  \n",
    "A[16, 10], A[16, 11] = 1, -1    # branch 16: node 11 -> node 10\n",
    "A[17, 6], A[17, 10] = 1, -1     # branch 17: node 10 -> node 6\n",
    "print(A)"
   ]
  },
  {
   "attachments": {},
   "cell_type": "markdown",
   "metadata": {},
   "source": [
    "### Conductance matrix G"
   ]
  },
  {
   "attachments": {},
   "cell_type": "markdown",
   "metadata": {},
   "source": [
    "Photo matrice G"
   ]
  },
  {
   "cell_type": "code",
   "execution_count": 9,
   "metadata": {},
   "outputs": [
    {
     "name": "stdout",
     "output_type": "stream",
     "text": [
      "[[175.           0.           0.           0.           0.\n",
      "    0.           0.           0.           0.           0.\n",
      "    0.           0.           0.           0.           0.\n",
      "    0.           0.           0.        ]\n",
      " [  0.           2.1          0.           0.           0.\n",
      "    0.           0.           0.           0.           0.\n",
      "    0.           0.           0.           0.           0.\n",
      "    0.           0.           0.        ]\n",
      " [  0.           0.           2.1          0.           0.\n",
      "    0.           0.           0.           0.           0.\n",
      "    0.           0.           0.           0.           0.\n",
      "    0.           0.           0.        ]\n",
      " [  0.           0.           0.           0.952        0.\n",
      "    0.           0.           0.           0.           0.\n",
      "    0.           0.           0.           0.           0.\n",
      "    0.           0.           0.        ]\n",
      " [  0.           0.           0.           0.           0.952\n",
      "    0.           0.           0.           0.           0.\n",
      "    0.           0.           0.           0.           0.\n",
      "    0.           0.           0.        ]\n",
      " [  0.           0.           0.           0.           0.\n",
      "   56.           0.           0.           0.           0.\n",
      "    0.           0.           0.           0.           0.\n",
      "    0.           0.           0.        ]\n",
      " [  0.           0.           0.           0.           0.\n",
      "    0.          72.           0.           0.           0.\n",
      "    0.           0.           0.           0.           0.\n",
      "    0.           0.           0.        ]\n",
      " [  0.           0.           0.           0.           0.\n",
      "    0.           0.           2.90464369   0.           0.\n",
      "    0.           0.           0.           0.           0.\n",
      "    0.           0.           0.        ]\n",
      " [  0.           0.           0.           0.           0.\n",
      "    0.           0.           0.           2.96454052   0.\n",
      "    0.           0.           0.           0.           0.\n",
      "    0.           0.           0.        ]\n",
      " [  0.           0.           0.           0.           0.\n",
      "    0.           0.           0.           0.          16.\n",
      "    0.           0.           0.           0.           0.\n",
      "    0.           0.           0.        ]\n",
      " [  0.           0.           0.           0.           0.\n",
      "    0.           0.           0.           0.           0.\n",
      "    3.6          0.           0.           0.           0.\n",
      "    0.           0.           0.        ]\n",
      " [  0.           0.           0.           0.           0.\n",
      "    0.           0.           0.           0.           0.\n",
      "    0.          96.           0.           0.           0.\n",
      "    0.           0.           0.        ]\n",
      " [  0.           0.           0.           0.           0.\n",
      "    0.           0.           0.           0.           0.\n",
      "    0.           0.          50.           0.           0.\n",
      "    0.           0.           0.        ]\n",
      " [  0.           0.           0.           0.           0.\n",
      "    0.           0.           0.           0.           0.\n",
      "    0.           0.           0.          50.           0.\n",
      "    0.           0.           0.        ]\n",
      " [  0.           0.           0.           0.           0.\n",
      "    0.           0.           0.           0.           0.\n",
      "    0.           0.           0.           0.           1.8\n",
      "    0.           0.           0.        ]\n",
      " [  0.           0.           0.           0.           0.\n",
      "    0.           0.           0.           0.           0.\n",
      "    0.           0.           0.           0.           0.\n",
      "   48.           0.           0.        ]\n",
      " [  0.           0.           0.           0.           0.\n",
      "    0.           0.           0.           0.           0.\n",
      "    0.           0.           0.           0.           0.\n",
      "    0.          72.           0.        ]\n",
      " [  0.           0.           0.           0.           0.\n",
      "    0.           0.           0.           0.           0.\n",
      "    0.           0.           0.           0.           0.\n",
      "    0.           0.           2.7       ]]\n"
     ]
    }
   ],
   "source": [
    "G = np.diag(np.hstack([G_0,G_1,G_2,G_3,G_4,G_5,G_6,G_7,G_8,G_9,G_10,G_11,G_12,G_13,G_14,G_15,G_16,G_17]))\n",
    "print(G)"
   ]
  },
  {
   "attachments": {},
   "cell_type": "markdown",
   "metadata": {},
   "source": [
    "### Capacity Matrix C"
   ]
  },
  {
   "attachments": {},
   "cell_type": "markdown",
   "metadata": {},
   "source": [
    "Photo matrice C"
   ]
  },
  {
   "cell_type": "code",
   "execution_count": 10,
   "metadata": {},
   "outputs": [],
   "source": [
    "C = np.diag(np.hstack([0,C_1,0,C_2,0,0,0,0,0,0,0,0,0]))"
   ]
  },
  {
   "attachments": {},
   "cell_type": "markdown",
   "metadata": {},
   "source": [
    "### Temperature vector Teta"
   ]
  },
  {
   "cell_type": "code",
   "execution_count": 11,
   "metadata": {},
   "outputs": [],
   "source": [
    "Teta = np.zeros(n0)"
   ]
  },
  {
   "attachments": {},
   "cell_type": "markdown",
   "metadata": {},
   "source": [
    "### Temperature source vector b"
   ]
  },
  {
   "cell_type": "code",
   "execution_count": 12,
   "metadata": {},
   "outputs": [],
   "source": [
    "b = np.zeros(nq)\n",
    "b[0] = T_out\n",
    "b[10] = T_in\n",
    "b[12] = T_out\n",
    "b[14] = T_in"
   ]
  },
  {
   "attachments": {},
   "cell_type": "markdown",
   "metadata": {},
   "source": [
    "### Heat flow source vector f"
   ]
  },
  {
   "cell_type": "code",
   "execution_count": 13,
   "metadata": {},
   "outputs": [],
   "source": [
    "f = np.zeros(n0)\n",
    "f[0] = Phi0\n",
    "f[9] = Phia"
   ]
  },
  {
   "attachments": {},
   "cell_type": "markdown",
   "metadata": {},
   "source": [
    "### Heat flow vector q"
   ]
  },
  {
   "cell_type": "code",
   "execution_count": 14,
   "metadata": {},
   "outputs": [],
   "source": [
    "q = np.zeros(nq)"
   ]
  },
  {
   "attachments": {},
   "cell_type": "markdown",
   "metadata": {},
   "source": [
    "### Computation of Teta"
   ]
  },
  {
   "cell_type": "code",
   "execution_count": 15,
   "metadata": {},
   "outputs": [
    {
     "name": "stdout",
     "output_type": "stream",
     "text": [
      "θ = [35.97756621 34.1080841  32.23860198 28.11474438 23.99088677 23.92544542\n",
      " 23.90277978 24.64969748 23.78356185 24.92484874 22.3980936  22.34166787\n",
      " 22.25702927] °C\n"
     ]
    }
   ],
   "source": [
    "Teta = np.linalg.inv(A.T @ G @ A) @ (A.T @ G @ b + f)\n",
    "print(f'θ = {Teta} °C')"
   ]
  },
  {
   "attachments": {},
   "cell_type": "markdown",
   "metadata": {},
   "source": [
    "### Computation of q"
   ]
  },
  {
   "cell_type": "code",
   "execution_count": 16,
   "metadata": {},
   "outputs": [
    {
     "name": "stdout",
     "output_type": "stream",
     "text": [
      "q = [-4.54607409e+03  3.92591244e+00  3.92591244e+00  3.92591244e+00\n",
      "  3.92591244e+00  3.66471569e+00 -1.63192612e+00  2.16952981e+00\n",
      "  2.61196749e-01  1.15880331e+01 -1.36208227e+01 -1.36208227e+01\n",
      " -7.46242437e+02  1.37575629e+01 -4.06265268e+00 -4.06265268e+00\n",
      " -4.06265268e+00 -4.06265268e+00] W\n"
     ]
    }
   ],
   "source": [
    "q = G @ (-A @ Teta+b)\n",
    "print(f'q = {q} W')"
   ]
  },
  {
   "attachments": {},
   "cell_type": "markdown",
   "metadata": {},
   "source": [
    "### Computation of y"
   ]
  },
  {
   "cell_type": "code",
   "execution_count": 17,
   "metadata": {},
   "outputs": [
    {
     "name": "stdout",
     "output_type": "stream",
     "text": [
      "y =  [ 0.          0.          0.          0.          0.         23.92544542\n",
      "  0.          0.          0.          0.          0.          0.\n",
      "  0.        ]\n"
     ]
    }
   ],
   "source": [
    "y = np.zeros(n0)         # nodes\n",
    "y[[5]] = Teta[[5]]              # nodes (temperatures) of interest\n",
    "print(f'y = ', y)"
   ]
  },
  {
   "cell_type": "markdown",
   "metadata": {},
   "source": [
    "# State space representation"
   ]
  },
  {
   "attachments": {},
   "cell_type": "markdown",
   "metadata": {},
   "source": [
    "### Matrices As, Bs, Cs and Ds for state space representation"
   ]
  },
  {
   "cell_type": "code",
   "execution_count": 18,
   "metadata": {},
   "outputs": [
    {
     "name": "stdout",
     "output_type": "stream",
     "text": [
      "As = \n",
      " [[-3.87914846e-07  9.30727297e-08]\n",
      " [ 1.87049078e-06 -4.39069436e-06]] \n",
      "\n",
      "Bs = \n",
      " [[2.94842116e-07 0.00000000e+00 0.00000000e+00 0.00000000e+00\n",
      "  1.68481209e-09 0.00000000e+00]\n",
      " [0.00000000e+00 5.74966462e-07 1.77698483e-06 1.68252288e-07\n",
      "  0.00000000e+00 3.55396965e-08]] \n",
      "\n",
      "Cs = \n",
      " [[0.         0.05802889]] \n",
      "\n",
      "Ds = \n",
      " [[0.         0.2152981  0.66433766 0.06233536 0.         0.01328675]] \n",
      "\n"
     ]
    }
   ],
   "source": [
    "import dm4bem\n",
    "[As, Bs, Cs, Ds] = dm4bem.tc2ss(A, G, b, C, f, y)\n",
    "print('As = \\n', As, '\\n')\n",
    "print('Bs = \\n', Bs, '\\n')\n",
    "print('Cs = \\n', Cs, '\\n')\n",
    "print('Ds = \\n', Ds, '\\n')"
   ]
  },
  {
   "attachments": {},
   "cell_type": "markdown",
   "metadata": {},
   "source": [
    "### Input vector u"
   ]
  },
  {
   "cell_type": "code",
   "execution_count": 19,
   "metadata": {},
   "outputs": [
    {
     "name": "stdout",
     "output_type": "stream",
     "text": [
      "u = [  10.   20.   10.   20. 4550.  760.]\n"
     ]
    }
   ],
   "source": [
    "bT = np.array([T_out, T_in, T_out, T_in])     #the four temperature sources\n",
    "fQ = np.array([Phi0, Phia])         # [Φo, Φi, Qa, Φa]\n",
    "u = np.hstack([bT, fQ])\n",
    "print(f'u = {u}')"
   ]
  },
  {
   "attachments": {},
   "cell_type": "markdown",
   "metadata": {},
   "source": [
    "### Steady-state value of the output of the state-space representation yss"
   ]
  },
  {
   "cell_type": "code",
   "execution_count": 20,
   "metadata": {},
   "outputs": [
    {
     "name": "stdout",
     "output_type": "stream",
     "text": [
      "yss = [23.92544542] °C\n"
     ]
    }
   ],
   "source": [
    "yss = (-Cs @ np.linalg.inv(As) @ Bs + Ds) @ u\n",
    "print(f'yss = {yss} °C')\n"
   ]
  },
  {
   "attachments": {},
   "cell_type": "markdown",
   "metadata": {},
   "source": [
    "### Computation of the error between the steady-state values obtained from the system of DAE θ[[5]] and the output of the state-space representation yss"
   ]
  },
  {
   "cell_type": "code",
   "execution_count": 21,
   "metadata": {},
   "outputs": [
    {
     "name": "stdout",
     "output_type": "stream",
     "text": [
      "Max error between DAE and state-space: 4.62e-14 °C\n"
     ]
    }
   ],
   "source": [
    "print(f'Max error between DAE and state-space: \\\n",
    "{max(abs(Teta[5] - yss)):.2e} °C')"
   ]
  },
  {
   "attachments": {},
   "cell_type": "markdown",
   "metadata": {},
   "source": [
    "# Simulate step reponse"
   ]
  },
  {
   "attachments": {},
   "cell_type": "markdown",
   "metadata": {},
   "source": [
    "### Time step\n",
    "\n",
    "We need to find a step response that satisfies Euler's stability conditions:\n",
    "\n",
    "So we need to have: \n",
    "$\\Delta t < \\frac{-2}{min(\\lambda_i)}$ with $\\lambda_i$ the eigenvalues of As"
   ]
  },
  {
   "cell_type": "code",
   "execution_count": 22,
   "metadata": {},
   "outputs": [
    {
     "name": "stdout",
     "output_type": "stream",
     "text": [
      "Time constants: \n",
      " [2899519.55267877  225544.01033887] s \n",
      "\n",
      "2 x Time constants: \n",
      " [5799039.10535753  451088.02067775] s \n",
      "\n",
      "Maximum time step: 451088.02 s = 7518.13 min\n"
     ]
    }
   ],
   "source": [
    "λ = np.linalg.eig(As)[0]    # eigenvalues of matrix As\n",
    "\n",
    "print('Time constants: \\n', -1 / λ, 's \\n')\n",
    "print('2 x Time constants: \\n', -2 / λ, 's \\n')\n",
    "dtmax = 2 * min(-1. / λ)\n",
    "print(f'Maximum time step: {dtmax:.2f} s = {dtmax / 60:.2f} min')"
   ]
  },
  {
   "attachments": {},
   "cell_type": "markdown",
   "metadata": {},
   "source": [
    "We have therefore obtained a maximum time step value of: ECRIRE LA VLAUER OBTENUE\n",
    "\n",
    "For greater safety, we choose a lower time step such as:"
   ]
  },
  {
   "cell_type": "code",
   "execution_count": 23,
   "metadata": {},
   "outputs": [
    {
     "name": "stdout",
     "output_type": "stream",
     "text": [
      "dt = 451080.0 s = 7518 min\n"
     ]
    }
   ],
   "source": [
    "# time step arrondie à la min inférieure\n",
    "dt = np.floor(dtmax / 60) * 60   # s\n",
    "print(f'dt = {dt} s = {dt / 60:.0f} min')"
   ]
  },
  {
   "attachments": {},
   "cell_type": "markdown",
   "metadata": {},
   "source": [
    "### Settling time\n",
    "\n",
    "Settling time represent the time our system takes to reach and stay within a range of 5% of the final value.\n",
    "\n",
    "$T_s= 4*max(\\frac{-1}{\\lambda_i})$\n",
    "\n"
   ]
  },
  {
   "cell_type": "code",
   "execution_count": 24,
   "metadata": {},
   "outputs": [
    {
     "name": "stdout",
     "output_type": "stream",
     "text": [
      "4 * Time constants: \n",
      " [  902176 11598076] s \n",
      "\n",
      "Settling time: 11598078 s = 193301.3 min = 3221.69 h = 134.24 days\n"
     ]
    }
   ],
   "source": [
    "# settling time\n",
    "time_const = np.array([int(x) for x in sorted(-1 / λ)])\n",
    "print('4 * Time constants: \\n', 4 * time_const, 's \\n')\n",
    "\n",
    "t_settle = 4 * max(-1 / λ)\n",
    "print(f'Settling time: \\\n",
    "{t_settle:.0f} s = \\\n",
    "{t_settle / 60:.1f} min = \\\n",
    "{t_settle / (3600):.2f} h = \\\n",
    "{t_settle / (3600 * 24):.2f} days')"
   ]
  },
  {
   "attachments": {},
   "cell_type": "markdown",
   "metadata": {},
   "source": [
    "### Step reponse\n",
    "**Duration**  \n",
    "  \n",
    "The duration of the simulation needs to be larger than the estimated settling time. This requires a corresponding number of time steps in the time vector.  \n",
    "\n",
    "We choose to stop the program one hour later than the setteling time value to be sure of reaching the desired temperature."
   ]
  },
  {
   "cell_type": "code",
   "execution_count": 25,
   "metadata": {},
   "outputs": [
    {
     "name": "stdout",
     "output_type": "stream",
     "text": [
      "Duration = 11599200.0 s\n",
      "Number of time steps = 25\n"
     ]
    }
   ],
   "source": [
    "\n",
    "duration = np.ceil(t_settle / 3600) * 3600\n",
    "n = int(np.floor(duration / dt))    # number of time steps\n",
    "t = np.arange(0, n * dt, dt)        # time vector for n time steps\n",
    "\n",
    "print(f'Duration = {duration} s')\n",
    "print(f'Number of time steps = {n}')"
   ]
  },
  {
   "attachments": {},
   "cell_type": "markdown",
   "metadata": {},
   "source": [
    "### Input vector\n",
    "b vector represent the temperatures sources\n",
    "$$ b=\n",
    "\\left(\\begin{array}{cc} \n",
    "T_{out} \\\\0\\\\....\\\\ T_{in} \\\\ T_{out}\\\\0\\\\0\\\\ T_{in} \\\\0\\\\0\\\\0\\\\0\\\\0\n",
    "\\end{array}\\right)\n",
    "$$\n",
    "So we have b_T the nonzero elements of the b vector:\n",
    "$$\n",
    "b_T=\n",
    "\\left(\\begin{array}{cc} \n",
    "T_{out} \\\\ T_{in} \\\\ T_{out} \\\\ T_{in} \n",
    "\\end{array}\\right)\n",
    "$$ \n",
    "And $f_Q$ the nonzero elements of f the vector of flow sources :\n",
    "$$\n",
    "f_Q=\n",
    "\\left(\\begin{array}{cc} \n",
    "\\Phi _0 \\\\ \\Phi _0\n",
    "\\end{array}\\right)\n",
    "$$\n",
    "With the expression of $b_T$ and $f_Q$ we can compute the input vector u:\n",
    "\n",
    "$$\n",
    "u=\n",
    "\\left(\\begin{array}{cc} \n",
    "T_{out} \\\\ T_{in} \\\\ T_{out} \\\\ T_{in} \\\\ \\Phi _0 \\\\ \\Phi _0\n",
    "\\end{array}\\right)\n",
    "=\n",
    "\\left(\\begin{array}{cc} \n",
    "T_{out}(0) & ... & T_{out}(n-1) \\\\ T_{in}(0) & ... & T_{in}(n-1)  \\\\ T_{out}(0) & ... & T_{out}(n-1) \\\\ T_{in}(0) & ... & T_{in}(n-1) \\\\ \\Phi _0(0) &...& \\Phi_0(n-1) \\\\ \\Phi _0(0) &...& \\Phi_0(n-1)\n",
    "\\end{array}\\right)"
   ]
  },
  {
   "cell_type": "code",
   "execution_count": null,
   "metadata": {},
   "outputs": [],
   "source": [
    "u = np.array([T_out,T_in,T_out,T_out,Phi0,Phi0])"
   ]
  },
  {
   "attachments": {},
   "cell_type": "markdown",
   "metadata": {},
   "source": [
    "### Time integration"
   ]
  }
 ],
 "metadata": {
  "kernelspec": {
   "display_name": "Python 3.9.13 ('base')",
   "language": "python",
   "name": "python3"
  },
  "language_info": {
   "codemirror_mode": {
    "name": "ipython",
    "version": 3
   },
   "file_extension": ".py",
   "mimetype": "text/x-python",
   "name": "python",
   "nbconvert_exporter": "python",
   "pygments_lexer": "ipython3",
   "version": "3.9.13"
  },
  "orig_nbformat": 4,
  "vscode": {
   "interpreter": {
    "hash": "ad2bdc8ecc057115af97d19610ffacc2b4e99fae6737bb82f5d7fb13d2f2c186"
   }
  }
 },
 "nbformat": 4,
 "nbformat_minor": 2
}
