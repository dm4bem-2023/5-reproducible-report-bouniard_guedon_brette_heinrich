{
 "cells": [
  {
   "attachments": {},
   "cell_type": "markdown",
   "metadata": {},
   "source": [
    "On design un chalet en bois, on prend du triple vitrage pour nos 1 fenêtres de 2 m², sur le mur  et pour lisolant on prend de la laine de roche. Pour une pièce de 3x4=12m², donc deux\n",
    "murs (appelés mur1) de 3m par 3m de hauteur, et deux de 4 par 3 (appelés mur2)."
   ]
  },
  {
   "cell_type": "code",
   "execution_count": null,
   "metadata": {},
   "outputs": [],
   "source": [
    "# thermal conductivity, W/(m·K);\n",
    "lambdabois=0.06 # wood\n",
    "lambdaverre=1   # glass\n",
    "lambdaair=0.024 # air\n",
    "lambdalaine = 0.034 # whool\n",
    "\n",
    "# épaisseurs\n",
    "everre=0.04 \n",
    "eair=0.1\n",
    "elaine=0.25\n",
    "ebois=0.2\n",
    "\n",
    "# surfaces\n",
    "Smur1 = 9\n",
    "Smur2=12\n",
    "Sfenetre=2\n",
    "\n",
    "# radiative properties\n",
    "ε_wLW = 0.85    # long wave emmisivity: wall surface (concrete)\n",
    "ε_gLW = 0.90    # long wave emmisivity: glass pyrex\n",
    "α_wSW = 0.25    # short wave absortivity: white smooth surface\n",
    "α_gSW = 0.38    # short wave absortivity: reflective blue glass\n",
    "τ_gSW = 0.30    # short wave transmitance: reflective blue glass\n",
    "\n",
    "h = pd.DataFrame([{'in': 8., 'out': 25}], index=['h'])  #convection coefficient, W/m² K;\n",
    "Tin = 20    #temperature inside, K;\n",
    "σ = σ = 5.67e-8     # W/(m²⋅K⁴) Stefan-Bolzmann constant"
   ]
  },
  {
   "cell_type": "markdown",
   "metadata": {},
   "source": []
  },
  {
   "attachments": {},
   "cell_type": "markdown",
   "metadata": {},
   "source": [
    "Calcul des différentes résistances thermiques"
   ]
  },
  {
   "cell_type": "code",
   "execution_count": null,
   "metadata": {},
   "outputs": [],
   "source": [
    "#Conduction\n",
    "Rmur1 = 2*ebois/(lambdabois*(Smur2-Sfenetre))+elaine/(lambdalaine*(Smur2-Sfenetre))\n",
    "Rfenetre = 3*everre/(lambdaverre*Sfenetre)+2*eair/(lamdaair*Sfenetre)\n",
    "Rmur2 = 2*ebois/(lambdabois*Smur2)+elaine/(lambdalaine*Smur2)\n",
    "\n",
    "#Convection\n",
    "Rconv2 = 2/(h*Smur2)\n",
    "Rconv1 = 2/(h*Smur1)\n",
    "Rconvfen = 2/(h*Sfenetre)\n",
    "\n",
    "# long wave radiation\n",
    "Tm = Tin + 273   # K, mean temp for radiative exchange\n",
    "\n",
    "GLW1 = 4 * σ * Tm**3 * ε_wLW / (1 - ε_wLW) * wall['Surface']['Layer_in']\n",
    "GLW12 = 4 * σ * Tm**3 * Fwg * wall['Surface']['Layer_in']\n",
    "GLW2 = 4 * σ * Tm**3 * ε_gLW / (1 - ε_gLW) * wall['Surface']['Glass']\n",
    "\n",
    "Gtot = 1 / (1 / GLW1 + 1 / GLW12 + 1 / GLW2)"
   ]
  }
 ],
 "metadata": {
  "kernelspec": {
   "display_name": "Python 3",
   "language": "python",
   "name": "python3"
  },
  "language_info": {
   "name": "python",
   "version": "3.10.7"
  },
  "orig_nbformat": 4
 },
 "nbformat": 4,
 "nbformat_minor": 2
}
