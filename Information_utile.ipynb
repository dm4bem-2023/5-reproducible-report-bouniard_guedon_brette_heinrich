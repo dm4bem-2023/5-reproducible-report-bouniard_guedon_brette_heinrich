{
 "cells": [
  {
   "cell_type": "code",
   "execution_count": null,
   "metadata": {},
   "outputs": [],
   "source": [
    "import numpy as np\n",
    "import pandas as pd\n",
    "import matplotlib.pyplot as plt\n",
    "import dm4bem"
   ]
  },
  {
   "attachments": {},
   "cell_type": "markdown",
   "metadata": {},
   "source": [
    "On design un chalet en bois, on prend du triple vitrage pour nos 1 fenêtres de 2 m², sur le mur  et pour lisolant on prend de la laine de roche. Pour une pièce de 3x4=12m², donc deux\n",
    "murs (appelés mur1) de 3m par 3m de hauteur, et deux de 4 par 3 (appelés mur2)."
   ]
  },
  {
   "cell_type": "code",
   "execution_count": null,
   "metadata": {},
   "outputs": [],
   "source": [
    "# thermal conductivity, W/(m·K);\n",
    "lambdabois=0.06 # wood\n",
    "lambdaverre=1   # glass\n",
    "lambdaair=0.024 # air\n",
    "lambdalaine = 0.034 # whool\n",
    "\n",
    "# épaisseurs\n",
    "everre=0.04\n",
    "elaine=0.25\n",
    "ebois=0.2\n",
    "\n",
    "# surfaces\n",
    "Smur1 = 9\n",
    "Smur2=12\n",
    "Sfenetre=2\n",
    "\n",
    "# radiative properties\n",
    "ε_wLW = 0.85    # long wave emmisivity: wall surface (concrete)\n",
    "ε_gLW = 0.90    # long wave emmisivity: glass pyrex\n",
    "α_wSW = 0.25    # short wave absortivity: white smooth surface\n",
    "α_gSW = 0.38    # short wave absortivity: reflective blue glass\n",
    "τ_gSW = 0.30    # short wave transmitance: reflective blue glass\n",
    "\n",
    "#convection coefficient, W/m² K;\n",
    "h_in = 8\n",
    "h_out = 25 \n",
    "\n",
    "Ti0 = 10    #temperature outside, K;\n",
    "Tin = 20    #temperature inside, K;\n",
    "σ = σ = 5.67e-8     # W/(m²⋅K⁴) Stefan-Bolzmann constant"
   ]
  },
  {
   "attachments": {},
   "cell_type": "markdown",
   "metadata": {},
   "source": [
    "### Thermal Conductances and capacities\n"
   ]
  },
  {
   "attachments": {},
   "cell_type": "markdown",
   "metadata": {},
   "source": [
    "Thermal conductances (W/K)"
   ]
  },
  {
   "attachments": {},
   "cell_type": "markdown",
   "metadata": {},
   "source": [
    "explication schéma:\n",
    "\n",
    "VERT :adiabatique pas pris en compte\n",
    "\n",
    "ROUGE: mur\n",
    "échanges outdoor T0 = Text\n",
    "0 : convection ext\n",
    "1 : long wave raidiation soleil\n",
    "\n",
    "résistances 1 et 2: bois\n",
    "capa 1: bois\n",
    "\n",
    "rés 3, 4 isolant\n",
    "capa 2 isolant\n",
    "\n",
    "noeud 4 : temp mur haut int\n",
    "\n",
    "VERT: verre\n",
    "t0: Text\n",
    "R12: cond verre\n",
    "R13: thermique verre\n",
    "\n",
    "noeud 7: temp verre (fenêtre) int\n",
    "\n",
    "noeud 5 : Tint1\n",
    "R5 : conv mur haut air chambre 1 int\n",
    "R9 : conv verre air chambre 1 int\n",
    "\n",
    "noeud 6: T surface mur milieu chambre 1\n",
    "R8 : résistance rayonnement chambre 1 mur haut mur milieu\n",
    "R7 : résistance rayonnement chambre 1 fenêtre mur milieu\n",
    "NB: pas de prise en compte du rayonnement entre les murs à 90°\n",
    "\n",
    "noeud 8 : Temp mur droite chambre 1\n",
    "R11 : conv mur droite et int chambre 1\n",
    "R10 : rés mur droite (porte confondue)\n",
    "\n",
    "R17 rés mur milieu chambre 1 et 2\n",
    "R6 : rés mur milieu chambre 1 avec air chambre 1\n",
    "\n",
    "noeud 10 : Temp mur droite chambre 2\n",
    "R16 : conv mur milieu et int chambre 2\n",
    "R15 : conv mur droite et int chambre 2\n",
    "R14 : rés mur droite chmabre 2 (R14 = R10)"
   ]
  },
  {
   "attachments": {},
   "cell_type": "markdown",
   "metadata": {},
   "source": [
    "Conductances 7 et 8 are longwave radiation conductances "
   ]
  },
  {
   "cell_type": "code",
   "execution_count": null,
   "metadata": {},
   "outputs": [],
   "source": [
    "#Conduction\n",
    "G_cd = wall['Conductivity'] / wall['Width'] * wall['Surface']\n",
    "pd.DataFrame(G_cd, columns={'Conductance'})\n",
    "\n",
    "#Convection\n",
    "Gw = h * wall['Surface'][0]     # wall\n",
    "Gg = h * wall['Surface'][2]     # glass\n",
    "\n",
    "#Long Wave radiation\n",
    "Tm = Tin + 273   # K, mean temp for radiative exchange\n",
    "Fwg = glass['Surface']  / wood['Surface']    # view factor wall-glass\n",
    "\n",
    "#Between window and wall_3\n",
    "G7_1 = 4 * σ * Tm**3 * ε_wLW / (1 - ε_wLW) * S_wall_3\n",
    "G7_12 = 4 * σ * Tm**3 * Fwg * S_wall_3 \n",
    "G7_2 = 4 * σ * Tm**3 * ε_gLW / (1 - ε_gLW) * glass['Surface']\n",
    "G7 = 1 / (1 / G7_1 + 1 / G7_12 + 1 / G7_2) \n",
    "\n",
    "#Between wall_1 and wall_3\n",
    "G8_1 = 4 * σ * Tm**3 * ε_wLW / (1 - ε_wLW) * S_wall_3\n",
    "G8_12 = 4 * σ * Tm**3 * Fwg * S_wall_3 \n",
    "G8_2 = 4 * σ * Tm**3 * ε_gLW / (1 - ε_gLW) * S_wall_1 \n",
    "G8 = 1 / (1 / G8_1 + 1 / G8_12 + 1 / G8_2)\n"
   ]
  },
  {
   "attachments": {},
   "cell_type": "markdown",
   "metadata": {},
   "source": [
    "Thermal capacities"
   ]
  },
  {
   "cell_type": "code",
   "execution_count": null,
   "metadata": {},
   "outputs": [],
   "source": [
    "#Conduction\n",
    "\n",
    "#Convection\n",
    "\n",
    "#Long Wave radiation\n",
    "\n",
    "#Advection"
   ]
  },
  {
   "cell_type": "code",
   "execution_count": null,
   "metadata": {},
   "outputs": [],
   "source": [
    "#Conduction\n",
    "Rmur1 = 2*ebois/(lambdabois*(Smur2-Sfenetre))+elaine/(lambdalaine*(Smur2-Sfenetre))\n",
    "Rfenetre = 3*everre/(lambdaverre*Sfenetre)+2*eair/(lamdaair*Sfenetre)\n",
    "Rmur2 = 2*ebois/(lambdabois*Smur2)+elaine/(lambdalaine*Smur2)\n",
    "\n",
    "#Convection\n",
    "Rconv2 = 2/(h*Smur2)\n",
    "Rconv1 = 2/(h*Smur1)\n",
    "Rconvfen = 2/(h*Sfenetre)\n",
    "\n",
    "# long wave radiation\n",
    "Tm = Tin + 273   # K, mean temp for radiative exchange\n",
    "\n",
    "GLW1 = 4 * σ * Tm**3 * ε_wLW / (1 - ε_wLW) * wall['Surface']['Layer_in']\n",
    "GLW12 = 4 * σ * Tm**3 * Fwg * wall['Surface']['Layer_in']\n",
    "GLW2 = 4 * σ * Tm**3 * ε_gLW / (1 - ε_gLW) * wall['Surface']['Glass']\n",
    "\n",
    "Gtot = 1 / (1 / GLW1 + 1 / GLW12 + 1 / GLW2)"
   ]
  }
 ],
 "metadata": {
  "kernelspec": {
   "display_name": "Python 3",
   "language": "python",
   "name": "python3"
  },
  "language_info": {
   "name": "python",
   "version": "3.10.7"
  },
  "orig_nbformat": 4
 },
 "nbformat": 4,
 "nbformat_minor": 2
}
