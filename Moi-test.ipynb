{
 "cells": [
  {
   "attachments": {},
   "cell_type": "markdown",
   "metadata": {},
   "source": []
  },
  {
   "attachments": {},
   "cell_type": "markdown",
   "metadata": {},
   "source": [
    "## Schema of our building\n",
    "Inserer image"
   ]
  },
  {
   "cell_type": "code",
   "execution_count": 360,
   "metadata": {},
   "outputs": [],
   "source": [
    "#[!bldg](builidng.pdf)"
   ]
  },
  {
   "attachments": {},
   "cell_type": "markdown",
   "metadata": {},
   "source": [
    "## Dimensions of the building\n",
    "\n",
    "Here, we compute the dimensions of our 2 rooms:\n",
    "we have chosen to take into account only one wall in contact with the rest of the chalet and one wall with the 2m² window in contact with the outside"
   ]
  },
  {
   "cell_type": "code",
   "execution_count": 361,
   "metadata": {},
   "outputs": [],
   "source": [
    "l_br=3 #lenght of the bedroom\n",
    "L_br=4 #width of the bedroom\n",
    "l_d= 3 #lenght of the dressing\n",
    "L_d= 2 #width of the dressing\n",
    "height= 3   #height under ceiling\n",
    "\n",
    "S_br= l_br*L_br  #total surface bedroom\n",
    "S_d= l_d*L_d    #total surface dressing\n",
    "\n",
    "S_glass= 2   # surface of the glass taken into account in the study\n",
    "\n",
    "S_wall_3=l_d*height  # surface of the wall between the dressing and the bedroom\n",
    "S_wall_4=L_d*height  # surface of the wall of the dressing\n",
    "S_wall_2= L_br*height # surface de droite \n",
    "S_wall_1= l_br*height - S_glass #surface du haut\n",
    " \n",
    "\n",
    "\n",
    "\n",
    "h_in = 8 #convection coefficient for inside, W/m² K;\n",
    "h_out= 25 #convection coefficient for outside, W/m² K;\n",
    "T_out = 10   #temperature outside, °C;\n",
    "T_in = 20   #temperature inside, °C;\n",
    "T_i0 = T_out +273 #temp out, K;\n",
    "\n",
    "\n",
    "Phi0 = 4550\n",
    "Phia = 760\n",
    "\n",
    "σ = σ = 5.67e-8     # W/(m²⋅K⁴) Stefan-Bolzmann constant\n"
   ]
  },
  {
   "attachments": {},
   "cell_type": "markdown",
   "metadata": {},
   "source": [
    "## Desciption of the building\n",
    "inserer photo adri"
   ]
  },
  {
   "attachments": {},
   "cell_type": "markdown",
   "metadata": {},
   "source": [
    "## Thermo-physical properties"
   ]
  },
  {
   "cell_type": "code",
   "execution_count": 362,
   "metadata": {},
   "outputs": [],
   "source": [
    "#Sapin\n",
    "wood = {'Conductivity': 0.06,\n",
    "            'Density': 450,\n",
    "            'Specific heat': 2300,\n",
    "            'Width':0.2 ,\n",
    "            'Surface': S_wall_1+S_wall_2+S_wall_3+S_wall_4\n",
    "             }\n",
    "\n",
    "whool = {'Conductivity': 0.034,\n",
    "              'Density': 40, \n",
    "              'Specific heat': 1030,\n",
    "              'Width':0.25 ,\n",
    "              'Surface': S_wall_1+S_wall_2+S_wall_3+S_wall_4 }\n",
    "\n",
    "glass = {'Conductivity': 1 ,\n",
    "         'Density': 2500,\n",
    "         'Specific heat': 0.8,\n",
    "         'Width':0.04 ,\n",
    "         'Surface': S_glass}\n",
    "\n",
    "air = {'Conductivity': 0.024 ,\n",
    "         'Density': 1.293,\n",
    "         'Specific heat': 1005,\n",
    "         'Width':0.1 ,\n",
    "         'Surface': S_glass }   \n",
    "          "
   ]
  },
  {
   "attachments": {},
   "cell_type": "markdown",
   "metadata": {},
   "source": [
    "## Radiative properties"
   ]
  },
  {
   "cell_type": "code",
   "execution_count": 363,
   "metadata": {},
   "outputs": [],
   "source": [
    "ε_wLW = 0.85    # long wave emmisivity: wall surface (concrete)\n",
    "ε_gLW = 0.90    # long wave emmisivity: glass pyrex\n",
    "α_wSW = 0.25    # short wave absortivity: white smooth surface\n",
    "α_gSW = 0.38    # short wave absortivity: reflective blue glass\n",
    "τ_gSW = 0.30    # short wave transmitance: reflective blue glass"
   ]
  },
  {
   "attachments": {},
   "cell_type": "markdown",
   "metadata": {},
   "source": [
    "## Thermal circuit\n",
    "Inserer photo\n"
   ]
  },
  {
   "attachments": {},
   "cell_type": "markdown",
   "metadata": {},
   "source": [
    "## Thermal conductances"
   ]
  },
  {
   "attachments": {},
   "cell_type": "markdown",
   "metadata": {},
   "source": [
    "### Conduction"
   ]
  },
  {
   "cell_type": "code",
   "execution_count": 364,
   "metadata": {},
   "outputs": [],
   "source": [
    "G_1 = wood['Conductivity'] / wood['Width'] * S_wall_1\n",
    "G_2 = wood['Conductivity'] / wood['Width'] * S_wall_1\n",
    "G_3 = whool['Conductivity'] / whool['Width'] * S_wall_1\n",
    "G_4 = whool['Conductivity'] / whool['Width'] * S_wall_1\n",
    "G_10= wood['Conductivity'] / wood['Width'] * S_wall_2\n",
    "G_17= wood['Conductivity'] / wood['Width'] * S_wall_3\n",
    "G_14= wood['Conductivity'] / wood['Width'] * S_wall_4\n",
    "G_13= glass['Conductivity'] / glass['Width'] * S_glass\n"
   ]
  },
  {
   "attachments": {},
   "cell_type": "markdown",
   "metadata": {},
   "source": [
    "### Convection"
   ]
  },
  {
   "cell_type": "code",
   "execution_count": 365,
   "metadata": {},
   "outputs": [],
   "source": [
    "G_0 = h_out * S_wall_1\n",
    "G_5= h_in * S_wall_1\n",
    "G_11= h_in * S_wall_2\n",
    "G_16= h_in * S_wall_3\n",
    "G_15= h_in * S_wall_4\n",
    "G_6 = h_in * S_wall_3\n",
    "G_9 = h_in * S_glass\n",
    "G_12= h_out * S_glass\n"
   ]
  },
  {
   "attachments": {},
   "cell_type": "markdown",
   "metadata": {},
   "source": [
    "### Long wave radiation"
   ]
  },
  {
   "cell_type": "code",
   "execution_count": 366,
   "metadata": {},
   "outputs": [],
   "source": [
    "#Long Wave radiation\n",
    "Tm = T_in + 273   # K, mean temp for radiative exchange\n",
    "Fwg = glass['Surface']  / wood['Surface']    # view factor wall-glass\n",
    "\n",
    "#Between window and wall_3\n",
    "G7_1 = 4 * σ * Tm**3 * ε_wLW / (1 - ε_wLW) * S_wall_3\n",
    "G7_12 = 4 * σ * Tm**3 * Fwg * S_wall_3 \n",
    "G7_2 = 4 * σ * Tm**3 * ε_gLW / (1 - ε_gLW) * glass['Surface']\n",
    "G_7 = 1 / (1 / G7_1 + 1 / G7_12 + 1 / G7_2) \n",
    "\n",
    "#Between wall_1 and wall_3\n",
    "G8_1 = 4 * σ * Tm**3 * ε_wLW / (1 - ε_wLW) * S_wall_3\n",
    "G8_12 = 4 * σ * Tm**3 * Fwg * S_wall_3 \n",
    "G8_2 = 4 * σ * Tm**3 * ε_gLW / (1 - ε_gLW) * S_wall_1 \n",
    "G_8 = 1 / (1 / G8_1 + 1 / G8_12 + 1 / G8_2)"
   ]
  },
  {
   "attachments": {},
   "cell_type": "markdown",
   "metadata": {},
   "source": [
    "## Thermal capacities"
   ]
  },
  {
   "cell_type": "code",
   "execution_count": 367,
   "metadata": {},
   "outputs": [],
   "source": [
    "C_1 = wood['Density'] * wood['Specific heat'] * wood['Surface'] * wood['Width']      #wood capacity wall 1\n",
    "C_2 = whool['Density'] * whool['Specific heat'] * whool['Surface'] * whool['Width']  #whool capacity wall 1"
   ]
  },
  {
   "attachments": {},
   "cell_type": "markdown",
   "metadata": {},
   "source": [
    "## System of Algebraic Differential Equations (DAE)"
   ]
  },
  {
   "attachments": {},
   "cell_type": "markdown",
   "metadata": {},
   "source": [
    "### Incidence matrix A"
   ]
  },
  {
   "attachments": {},
   "cell_type": "markdown",
   "metadata": {},
   "source": [
    "Photo Matrice A"
   ]
  },
  {
   "cell_type": "code",
   "execution_count": 368,
   "metadata": {},
   "outputs": [
    {
     "name": "stdout",
     "output_type": "stream",
     "text": [
      "[[ 1.  0.  0.  0.  0.  0.  0.  0.  0.  0.  0.  0.  0.]\n",
      " [-1.  1.  0.  0.  0.  0.  0.  0.  0.  0.  0.  0.  0.]\n",
      " [ 0. -1.  1.  0.  0.  0.  0.  0.  0.  0.  0.  0.  0.]\n",
      " [ 0.  0. -1.  1.  0.  0.  0.  0.  0.  0.  0.  0.  0.]\n",
      " [ 0.  0.  0. -1.  1.  0.  0.  0.  0.  0.  0.  0.  0.]\n",
      " [ 0.  0.  0.  0. -1.  1.  0.  0.  0.  0.  0.  0.  0.]\n",
      " [ 0.  0.  0.  0.  0.  1. -1.  0.  0.  0.  0.  0.  0.]\n",
      " [ 0.  0.  0.  0.  0.  0.  1. -1.  0.  0.  0.  0.  0.]\n",
      " [ 0.  0.  0.  0. -1.  0.  1.  0.  0.  0.  0.  0.  0.]\n",
      " [ 0.  0.  0.  0.  0.  1.  0. -1.  0.  0.  0.  0.  0.]\n",
      " [ 0.  0.  0.  0.  0.  0.  0.  0.  1.  0.  0.  0.  0.]\n",
      " [ 0.  0.  0.  0.  0.  1.  0.  0. -1.  0.  0.  0.  0.]\n",
      " [ 0.  0.  0.  0.  0.  0.  0.  0.  0.  1.  0.  0.  0.]\n",
      " [ 0.  0.  0.  0.  0.  0.  0.  1.  0. -1.  0.  0.  0.]\n",
      " [ 0.  0.  0.  0.  0.  0.  0.  0.  0.  0.  0.  0.  1.]\n",
      " [ 0.  0.  0.  0.  0.  0.  0.  0.  0.  0.  0.  1. -1.]\n",
      " [ 0.  0.  0.  0.  0.  0.  0.  0.  0.  0.  1. -1.  0.]\n",
      " [ 0.  0.  0.  0.  0.  0.  1.  0.  0.  0. -1.  0.  0.]]\n"
     ]
    }
   ],
   "source": [
    "import numpy as np\n",
    "nq = 18                         # n° of branches\n",
    "n0 = 13                         # n° of nodes\n",
    "A = np.zeros([nq,n0])             # n° of branches X n° of nodes\n",
    "A[0, 0] = 1                     # branch 0: -> node 0\n",
    "A[1, 0], A[1, 1] = -1, 1        # branch 1: node 0 -> node 1\n",
    "A[2, 1], A[2, 2] = -1, 1        # branch 2: node 1 -> node 2\n",
    "A[3, 2], A[3, 3] = -1, 1        # branch 3: node 2 -> node 3\n",
    "A[4, 3], A[4, 4] = -1, 1        # branch 4: node 3 -> node 4\n",
    "A[5, 4], A[5, 5] = -1, 1        # branch 5: node 4 -> node 5\n",
    "A[6, 5], A[6, 6] =  1,-1        # branch 6: node 6 -> node 5\n",
    "A[7, 6], A[7, 7] =  1,-1        # branch 7: node 7 -> node 6\n",
    "A[8, 4], A[8, 6] = -1, 1        # branch 8: node 4 -> node 6\n",
    "A[9, 5], A[9, 7] =  1,-1        # branch 9: node 7 -> node 5\n",
    "A[10, 8] = 1                    # branch 10: -> node 8\n",
    "A[11, 5], A[11, 8] = 1, -1      # branch 11: node 8 -> node 5\n",
    "A[12, 9] = 1                    # branch 12: -> node 9\n",
    "A[13, 7], A[13, 9] = 1, -1      # branch 13: node 9 -> node 7\n",
    "A[14, 12] = 1                   # branch 14: -> node 12\n",
    "A[15, 11], A[15, 12] = 1, -1    # branch 15: node 12 -> node 11  \n",
    "A[16, 10], A[16, 11] = 1, -1    # branch 16: node 11 -> node 10\n",
    "A[17, 6], A[17, 10] = 1, -1     # branch 17: node 10 -> node 6\n",
    "print(A)"
   ]
  },
  {
   "attachments": {},
   "cell_type": "markdown",
   "metadata": {},
   "source": [
    "### Conductance matrix G"
   ]
  },
  {
   "attachments": {},
   "cell_type": "markdown",
   "metadata": {},
   "source": [
    "Photo matrice G"
   ]
  },
  {
   "cell_type": "code",
   "execution_count": 369,
   "metadata": {},
   "outputs": [
    {
     "name": "stdout",
     "output_type": "stream",
     "text": [
      "[[175.           0.           0.           0.           0.\n",
      "    0.           0.           0.           0.           0.\n",
      "    0.           0.           0.           0.           0.\n",
      "    0.           0.           0.        ]\n",
      " [  0.           2.1          0.           0.           0.\n",
      "    0.           0.           0.           0.           0.\n",
      "    0.           0.           0.           0.           0.\n",
      "    0.           0.           0.        ]\n",
      " [  0.           0.           2.1          0.           0.\n",
      "    0.           0.           0.           0.           0.\n",
      "    0.           0.           0.           0.           0.\n",
      "    0.           0.           0.        ]\n",
      " [  0.           0.           0.           0.952        0.\n",
      "    0.           0.           0.           0.           0.\n",
      "    0.           0.           0.           0.           0.\n",
      "    0.           0.           0.        ]\n",
      " [  0.           0.           0.           0.           0.952\n",
      "    0.           0.           0.           0.           0.\n",
      "    0.           0.           0.           0.           0.\n",
      "    0.           0.           0.        ]\n",
      " [  0.           0.           0.           0.           0.\n",
      "   56.           0.           0.           0.           0.\n",
      "    0.           0.           0.           0.           0.\n",
      "    0.           0.           0.        ]\n",
      " [  0.           0.           0.           0.           0.\n",
      "    0.          72.           0.           0.           0.\n",
      "    0.           0.           0.           0.           0.\n",
      "    0.           0.           0.        ]\n",
      " [  0.           0.           0.           0.           0.\n",
      "    0.           0.           2.90464369   0.           0.\n",
      "    0.           0.           0.           0.           0.\n",
      "    0.           0.           0.        ]\n",
      " [  0.           0.           0.           0.           0.\n",
      "    0.           0.           0.           2.96454052   0.\n",
      "    0.           0.           0.           0.           0.\n",
      "    0.           0.           0.        ]\n",
      " [  0.           0.           0.           0.           0.\n",
      "    0.           0.           0.           0.          16.\n",
      "    0.           0.           0.           0.           0.\n",
      "    0.           0.           0.        ]\n",
      " [  0.           0.           0.           0.           0.\n",
      "    0.           0.           0.           0.           0.\n",
      "    3.6          0.           0.           0.           0.\n",
      "    0.           0.           0.        ]\n",
      " [  0.           0.           0.           0.           0.\n",
      "    0.           0.           0.           0.           0.\n",
      "    0.          96.           0.           0.           0.\n",
      "    0.           0.           0.        ]\n",
      " [  0.           0.           0.           0.           0.\n",
      "    0.           0.           0.           0.           0.\n",
      "    0.           0.          50.           0.           0.\n",
      "    0.           0.           0.        ]\n",
      " [  0.           0.           0.           0.           0.\n",
      "    0.           0.           0.           0.           0.\n",
      "    0.           0.           0.          50.           0.\n",
      "    0.           0.           0.        ]\n",
      " [  0.           0.           0.           0.           0.\n",
      "    0.           0.           0.           0.           0.\n",
      "    0.           0.           0.           0.           1.8\n",
      "    0.           0.           0.        ]\n",
      " [  0.           0.           0.           0.           0.\n",
      "    0.           0.           0.           0.           0.\n",
      "    0.           0.           0.           0.           0.\n",
      "   48.           0.           0.        ]\n",
      " [  0.           0.           0.           0.           0.\n",
      "    0.           0.           0.           0.           0.\n",
      "    0.           0.           0.           0.           0.\n",
      "    0.          72.           0.        ]\n",
      " [  0.           0.           0.           0.           0.\n",
      "    0.           0.           0.           0.           0.\n",
      "    0.           0.           0.           0.           0.\n",
      "    0.           0.           2.7       ]]\n"
     ]
    }
   ],
   "source": [
    "G = np.diag(np.hstack([G_0,G_1,G_2,G_3,G_4,G_5,G_6,G_7,G_8,G_9,G_10,G_11,G_12,G_13,G_14,G_15,G_16,G_17]))\n",
    "print(G)"
   ]
  },
  {
   "attachments": {},
   "cell_type": "markdown",
   "metadata": {},
   "source": [
    "### Capacity Matrix C"
   ]
  },
  {
   "attachments": {},
   "cell_type": "markdown",
   "metadata": {},
   "source": [
    "Photo matrice C"
   ]
  },
  {
   "cell_type": "code",
   "execution_count": 370,
   "metadata": {},
   "outputs": [],
   "source": [
    "C = np.diag(np.hstack([0,C_1,0,C_2,0,0,0,0,0,0,0,0,0]))"
   ]
  },
  {
   "attachments": {},
   "cell_type": "markdown",
   "metadata": {},
   "source": [
    "### Temperature vector Teta"
   ]
  },
  {
   "cell_type": "code",
   "execution_count": 371,
   "metadata": {},
   "outputs": [],
   "source": [
    "Teta = np.zeros(n0)"
   ]
  },
  {
   "attachments": {},
   "cell_type": "markdown",
   "metadata": {},
   "source": [
    "### Temperature source vector b"
   ]
  },
  {
   "cell_type": "code",
   "execution_count": 372,
   "metadata": {},
   "outputs": [],
   "source": [
    "b = np.zeros(nq)\n",
    "b[0] = T_out\n",
    "b[10] = T_in\n",
    "b[12] = T_out\n",
    "b[14] = T_in"
   ]
  },
  {
   "attachments": {},
   "cell_type": "markdown",
   "metadata": {},
   "source": [
    "### Heat flow source vector f"
   ]
  },
  {
   "cell_type": "code",
   "execution_count": 373,
   "metadata": {},
   "outputs": [],
   "source": [
    "f = np.zeros(n0)\n",
    "f[0] = Phi0\n",
    "f[9] = Phia"
   ]
  },
  {
   "attachments": {},
   "cell_type": "markdown",
   "metadata": {},
   "source": [
    "### Heat flow vector q"
   ]
  },
  {
   "cell_type": "code",
   "execution_count": 374,
   "metadata": {},
   "outputs": [],
   "source": [
    "q = np.zeros(nq)"
   ]
  },
  {
   "attachments": {},
   "cell_type": "markdown",
   "metadata": {},
   "source": [
    "### Computation of Teta"
   ]
  },
  {
   "cell_type": "code",
   "execution_count": 375,
   "metadata": {},
   "outputs": [
    {
     "name": "stdout",
     "output_type": "stream",
     "text": [
      "θ = [25.98293032 24.56045686 23.13798341 20.00017431 16.86236522 16.81118936\n",
      " 16.82143255 15.89443027 16.92644758 15.54721514 18.04690434 18.09285953\n",
      " 18.16179232] °C\n"
     ]
    }
   ],
   "source": [
    "Teta = np.linalg.inv(A.T @ G @ A) @ (A.T @ G @ b + f)\n",
    "print(f'θ = {Teta} °C')"
   ]
  },
  {
   "attachments": {},
   "cell_type": "markdown",
   "metadata": {},
   "source": [
    "### Computation of q"
   ]
  },
  {
   "cell_type": "code",
   "execution_count": 376,
   "metadata": {},
   "outputs": [
    {
     "name": "stdout",
     "output_type": "stream",
     "text": [
      "q = [-4.54701281e+03  2.98719426e+00  2.98719426e+00  2.98719426e+00\n",
      "  2.98719426e+00  2.86584770e+00  7.37509080e-01 -2.69261131e+00\n",
      "  1.21346559e-01 -1.46681455e+01  1.10647887e+01  1.10647887e+01\n",
      " -7.77360757e+02 -1.73607568e+01  3.30877383e+00  3.30877383e+00\n",
      "  3.30877383e+00  3.30877383e+00] W\n"
     ]
    }
   ],
   "source": [
    "q = G @ (-A @ Teta+b)\n",
    "print(f'q = {q} W')"
   ]
  }
 ],
 "metadata": {
  "kernelspec": {
   "display_name": "Python 3.9.13 ('base')",
   "language": "python",
   "name": "python3"
  },
  "language_info": {
   "codemirror_mode": {
    "name": "ipython",
    "version": 3
   },
   "file_extension": ".py",
   "mimetype": "text/x-python",
   "name": "python",
   "nbconvert_exporter": "python",
   "pygments_lexer": "ipython3",
   "version": "3.9.13"
  },
  "orig_nbformat": 4,
  "vscode": {
   "interpreter": {
    "hash": "ad2bdc8ecc057115af97d19610ffacc2b4e99fae6737bb82f5d7fb13d2f2c186"
   }
  }
 },
 "nbformat": 4,
 "nbformat_minor": 2
}
