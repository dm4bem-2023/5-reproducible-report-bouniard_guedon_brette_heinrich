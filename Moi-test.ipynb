{
 "cells": [
  {
   "attachments": {},
   "cell_type": "markdown",
   "metadata": {},
   "source": []
  },
  {
   "attachments": {},
   "cell_type": "markdown",
   "metadata": {},
   "source": [
    "## Schema of our building\n",
    "Inserer image"
   ]
  },
  {
   "cell_type": "code",
   "execution_count": null,
   "metadata": {},
   "outputs": [],
   "source": [
    "[!bldg](builidng.pdf)"
   ]
  },
  {
   "attachments": {},
   "cell_type": "markdown",
   "metadata": {},
   "source": [
    "## Dimensions of the building\n",
    "\n",
    "Here, we compute the dimensions of our 2 rooms:\n",
    "we have chosen to take into account only one wall in contact with the rest of the chalet and one wall with the 2m² window in contact with the outside"
   ]
  },
  {
   "cell_type": "code",
   "execution_count": null,
   "metadata": {},
   "outputs": [],
   "source": [
    "l_br=3 #lenght of the bedroom\n",
    "L_br=4 #width of the bedroom\n",
    "l_d= 3 #lenght of the dressing\n",
    "L_d= 2 #width of the dressing\n",
    "height= 3   #height under ceiling\n",
    "\n",
    "S_br= l_br*L_br  #total surface bedroom\n",
    "S_d= l_d*L_d    #total surface dressing\n",
    "\n",
    "S_glass= 2   # surface of the glass taken into account in the study\n",
    "\n",
    "S_wall_3=l_d*height  # surface of the wall between the dressing and the bedroom\n",
    "S_wall_4=L_d*height  # surface of the wall of the dressing\n",
    "S_wall_2= L_br*height # surface de droite \n",
    "S_wall_1= l_br*height - S_glass #surface du haut\n",
    " \n",
    "\n",
    "\n",
    "\n",
    "h_in = 8 #convection coefficient for inside, W/m² K;\n",
    "h_out= 25 #convection coefficient for outside, W/m² K;\n",
    "Tin = 20    #temperature inside, K;\n",
    "σ = σ = 5.67e-8     # W/(m²⋅K⁴) Stefan-Bolzmann constant\n"
   ]
  },
  {
   "cell_type": "markdown",
   "metadata": {},
   "source": []
  },
  {
   "attachments": {},
   "cell_type": "markdown",
   "metadata": {},
   "source": [
    "## Desciption of the building\n",
    "inserer photo adri"
   ]
  },
  {
   "attachments": {},
   "cell_type": "markdown",
   "metadata": {},
   "source": [
    "## Thermo-physical properties"
   ]
  },
  {
   "cell_type": "code",
   "execution_count": null,
   "metadata": {},
   "outputs": [],
   "source": [
    "wood = {'Conductivity': 0.06,\n",
    "            'Density': ,\n",
    "            'Specific heat': ,\n",
    "            'Width':0.2 ,\n",
    "            'Surface': S_wall_1+S_wall_2+S_wall_3+S_wall_4\n",
    "             }\n",
    "\n",
    "whool = {'Conductivity': 0.034,\n",
    "              'Density': ,\n",
    "              'Specific heat': ,\n",
    "              'Width':0.25 ,\n",
    "              'Surface': S_wall_1+S_wall_2+S_wall_3+S_wall_4 }\n",
    "\n",
    "glass = {'Conductivity': 1 ,\n",
    "         'Density': ,\n",
    "         'Specific heat': ,\n",
    "         'Width':0.04 ,\n",
    "         'Surface': S_glass}\n",
    "\n",
    "air = {'Conductivity': 0.024 ,\n",
    "         'Density': ,\n",
    "         'Specific heat': ,\n",
    "         'Width':0.1 ,\n",
    "         'Surface': S_glass }   \n",
    "          "
   ]
  },
  {
   "attachments": {},
   "cell_type": "markdown",
   "metadata": {},
   "source": [
    "## Radiative properties"
   ]
  },
  {
   "cell_type": "code",
   "execution_count": null,
   "metadata": {},
   "outputs": [],
   "source": [
    "ε_wLW = 0.85    # long wave emmisivity: wall surface (concrete)\n",
    "ε_gLW = 0.90    # long wave emmisivity: glass pyrex\n",
    "α_wSW = 0.25    # short wave absortivity: white smooth surface\n",
    "α_gSW = 0.38    # short wave absortivity: reflective blue glass\n",
    "τ_gSW = 0.30    # short wave transmitance: reflective blue glass"
   ]
  },
  {
   "attachments": {},
   "cell_type": "markdown",
   "metadata": {},
   "source": [
    "## Thermal circuit\n",
    "Inserer photo\n"
   ]
  },
  {
   "attachments": {},
   "cell_type": "markdown",
   "metadata": {},
   "source": [
    "## Thermal conductances"
   ]
  },
  {
   "attachments": {},
   "cell_type": "markdown",
   "metadata": {},
   "source": [
    "### Conduction"
   ]
  },
  {
   "cell_type": "code",
   "execution_count": null,
   "metadata": {},
   "outputs": [],
   "source": [
    "G_1 = wood['Conductivity'] / wood['Width'] * S_wall_1\n",
    "G_2 = wood['Conductivity'] / wood['Width'] * S_wall_1\n",
    "G_3 = whool['Conductivity'] / whool['Width'] * S_wall_1\n",
    "G_4 = whool['Conductivity'] / whool['Width'] * S_wall_1\n",
    "G_10= wood['Conductivity'] / wood['Width'] * S_wall_2\n",
    "G_17= wood['Conductivity'] / wood['Width'] * S_wall_3\n",
    "G_14= wood['Conductivity'] / wood['Width'] * S_wall_4\n",
    "G_13= glass['Conductivity'] / glass['Width'] * S_glass\n",
    "G_12= glass['Conductivity'] / glass['Width'] * S_glass"
   ]
  },
  {
   "attachments": {},
   "cell_type": "markdown",
   "metadata": {},
   "source": [
    "### Convection"
   ]
  },
  {
   "cell_type": "code",
   "execution_count": null,
   "metadata": {},
   "outputs": [],
   "source": [
    "G_0 = h_out * S_wall_1\n",
    "G_5= h_in * S_wall_1\n",
    "G_11= h_in * S_wall_2\n",
    "G_16= h_in * S_wall_3\n",
    "G_15= h_in * S_wall_4\n"
   ]
  },
  {
   "attachments": {},
   "cell_type": "markdown",
   "metadata": {},
   "source": [
    "### Long wave radiation"
   ]
  },
  {
   "cell_type": "code",
   "execution_count": null,
   "metadata": {},
   "outputs": [],
   "source": [
    "#Long Wave radiation\n",
    "Tm = Tin + 273   # K, mean temp for radiative exchange\n",
    "Fwg = glass['Surface']  / wood['Surface']    # view factor wall-glass\n",
    "\n",
    "#Between window and wall_3\n",
    "G7_1 = 4 * σ * Tm**3 * ε_wLW / (1 - ε_wLW) * S_wall_3\n",
    "G7_12 = 4 * σ * Tm**3 * Fwg * S_wall_3 \n",
    "G7_2 = 4 * σ * Tm**3 * ε_gLW / (1 - ε_gLW) * glass['Surface']\n",
    "G7 = 1 / (1 / G7_1 + 1 / G7_12 + 1 / G7_2) \n",
    "\n",
    "#Between wall_1 and wall_3\n",
    "G8_1 = 4 * σ * Tm**3 * ε_wLW / (1 - ε_wLW) * S_wall_3\n",
    "G8_12 = 4 * σ * Tm**3 * Fwg * S_wall_3 \n",
    "G8_2 = 4 * σ * Tm**3 * ε_gLW / (1 - ε_gLW) * S_wall_1 \n",
    "G8 = 1 / (1 / G8_1 + 1 / G8_12 + 1 / G8_2)"
   ]
  },
  {
   "attachments": {},
   "cell_type": "markdown",
   "metadata": {},
   "source": [
    "## Thermal capacities"
   ]
  },
  {
   "cell_type": "code",
   "execution_count": null,
   "metadata": {},
   "outputs": [],
   "source": [
    "C1 = wood['Density'] * wood['Specific heat'] * wood['Surface'] * wood['Width']      #wood capacity wall 1\n",
    "C2 = whool['Density'] * whool['Specific heat'] * whool['Surface'] * whool['Width']  #whool capacity wall 1"
   ]
  },
  {
   "attachments": {},
   "cell_type": "markdown",
   "metadata": {},
   "source": [
    "## System of Algebraic Differential Equations (DAE)"
   ]
  },
  {
   "attachments": {},
   "cell_type": "markdown",
   "metadata": {},
   "source": [
    "### Incidence matrix A"
   ]
  },
  {
   "attachments": {},
   "cell_type": "markdown",
   "metadata": {},
   "source": [
    "Photo Matrice A"
   ]
  },
  {
   "cell_type": "code",
   "execution_count": null,
   "metadata": {},
   "outputs": [],
   "source": [
    "import numpy as np\n",
    "nq = 18                         # n° of branches\n",
    "n0 = 13                         # n° of nodes\n",
    "A = np.zeros(nq,n0)             # n° of branches X n° of nodes\n",
    "A[0, 0] = 1                     # branch 0: -> node 0\n",
    "A[1, 0], A[1, 1] = -1, 1        # branch 1: node 0 -> node 1\n",
    "A[2, 1], A[2, 2] = -1, 1        # branch 2: node 1 -> node 2\n",
    "A[3, 2], A[3, 3] = -1, 1        # branch 3: node 2 -> node 3\n",
    "A[4, 3], A[4, 4] = -1, 1        # branch 4: node 3 -> node 4\n",
    "A[5, 4], A[5, 5] = -1, 1        # branch 5: node 4 -> node 5\n",
    "A[6, 5], A[6, 6] = -1, 1        # branch 6: node 5 -> node 6\n",
    "A[7, 6], A[7, 7] = -1, 1        # branch 7: node 6 -> node 7\n",
    "A[8, 4], A[8, 6] = -1, 1        # branch 8: node 4 -> node 6\n",
    "A[9, 5], A[9, 7] =  1,-1        # branch 9: node 7 -> node 5\n",
    "A[10, 8] = 1                    # branch 10: -> node 8\n",
    "A[11, 5], A[11, 8] = 1, -1      # branch 11: node 8 -> node 5\n",
    "A[12, 9] = 1                    # branch 12: -> node 9\n",
    "A[13, 7], A[13, 9] = 1, -1      # branch 13: node 9 -> node 7\n",
    "A[14, 12] = 1                   # branch 14: -> node 12\n",
    "A[15, 11], A[15, 12] = 1, -1    # branch 15: node 12 -> node 11  \n",
    "A[16, 10], A[16, 11] = 1, -1    # branch 16: node 11 -> node 10\n",
    "A[17, 6], A[17, 10] = 1, -1     # branch 17: node 10 -> node 6"
   ]
  },
  {
   "attachments": {},
   "cell_type": "markdown",
   "metadata": {},
   "source": [
    "### Conductance matrix G"
   ]
  },
  {
   "attachments": {},
   "cell_type": "markdown",
   "metadata": {},
   "source": [
    "Photo matrice G"
   ]
  },
  {
   "cell_type": "code",
   "execution_count": null,
   "metadata": {},
   "outputs": [],
   "source": [
    "G = np.diag(G0,G1,G2,G3,G4,G5,G6,G7,G8,G9,G10,G11,G12,G13,G14,G15,G16,G17)"
   ]
  },
  {
   "attachments": {},
   "cell_type": "markdown",
   "metadata": {},
   "source": [
    "### Capacity Matrix C"
   ]
  },
  {
   "attachments": {},
   "cell_type": "markdown",
   "metadata": {},
   "source": [
    "Photo matrice C"
   ]
  },
  {
   "cell_type": "code",
   "execution_count": null,
   "metadata": {},
   "outputs": [],
   "source": [
    "C = np.diag(0,C1,0,C3,0,0,0,0,0,0,0,0,0)"
   ]
  },
  {
   "attachments": {},
   "cell_type": "markdown",
   "metadata": {},
   "source": [
    "### Temperature vector Teta"
   ]
  },
  {
   "cell_type": "code",
   "execution_count": null,
   "metadata": {},
   "outputs": [],
   "source": [
    "Teta = np.zeros(n0,1)"
   ]
  },
  {
   "attachments": {},
   "cell_type": "markdown",
   "metadata": {},
   "source": [
    "### Temperature source vector b"
   ]
  },
  {
   "cell_type": "code",
   "execution_count": null,
   "metadata": {},
   "outputs": [],
   "source": [
    "b = np.zeros(nq,1)\n",
    "b[0] = Ti0\n",
    "b[8] = Tin\n",
    "b[9] = Ti0\n",
    "b[12] = Tin"
   ]
  },
  {
   "attachments": {},
   "cell_type": "markdown",
   "metadata": {},
   "source": [
    "### Heat flow source vector f"
   ]
  },
  {
   "cell_type": "code",
   "execution_count": null,
   "metadata": {},
   "outputs": [],
   "source": [
    "f = np.zeros(n0,1)\n",
    "f[0] = Phi0\n",
    "f[9] = Phia"
   ]
  },
  {
   "attachments": {},
   "cell_type": "markdown",
   "metadata": {},
   "source": [
    "### Heat flow vector: q"
   ]
  },
  {
   "cell_type": "code",
   "execution_count": null,
   "metadata": {},
   "outputs": [],
   "source": [
    "q = np.zeros(nq,1)"
   ]
  },
  {
   "cell_type": "markdown",
   "metadata": {},
   "source": []
  }
 ],
 "metadata": {
  "kernelspec": {
   "display_name": "Python 3",
   "language": "python",
   "name": "python3"
  },
  "language_info": {
   "name": "python",
   "version": "3.10.7"
  },
  "orig_nbformat": 4
 },
 "nbformat": 4,
 "nbformat_minor": 2
}
