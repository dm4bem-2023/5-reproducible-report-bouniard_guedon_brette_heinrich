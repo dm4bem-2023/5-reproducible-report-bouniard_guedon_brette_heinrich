{
 "cells": [
  {
   "attachments": {},
   "cell_type": "markdown",
   "metadata": {},
   "source": []
  },
  {
   "attachments": {},
   "cell_type": "markdown",
   "metadata": {},
   "source": [
    "## Schema of our building\n",
    "Inserer image"
   ]
  },
  {
   "cell_type": "code",
   "execution_count": null,
   "metadata": {},
   "outputs": [],
   "source": [
    "[!bldg](builidng.pdf)"
   ]
  },
  {
   "attachments": {},
   "cell_type": "markdown",
   "metadata": {},
   "source": [
    "## Dimensions of the building\n",
    "\n",
    "Here, we compute the dimensions of our 2 rooms:\n",
    "we have chosen to take into account only one wall in contact with the rest of the chalet and one wall with the 2m² window in contact with the outside"
   ]
  },
  {
   "cell_type": "code",
   "execution_count": null,
   "metadata": {},
   "outputs": [],
   "source": [
    "l_br=3 #lenght of the bedroom\n",
    "L_br=4 #width of the bedroom\n",
    "l_d= 3 #lenght of the dressing\n",
    "L_d= 2 #width of the dressing\n",
    "height= 3   #height under ceiling\n",
    "\n",
    "S_br= l_br*L_br  #total surface bedroom\n",
    "S_d= l_d*L_d    #total surface dressing\n",
    "\n",
    "S_glass= 2   # surface of the glass taken into account in the study\n",
    "\n",
    "S_wall_3=l_d*height  # surface of the wall between the dressing and the bedroom\n",
    "S_wall_4=L_d*height  # surface of the wall of the dressing\n",
    "S_wall_2= L_br*height # surface de droite \n",
    "S_wall_1= l_br*height - S_glass #surface du haut\n",
    " \n",
    "\n",
    "\n",
    "\n",
    "h_in = 8 #convection coefficient for inside, W/m² K;\n",
    "h_out= 25 #convection coefficient for outside, W/m² K;\n",
    "Tin = 20    #temperature inside, K;\n",
    "σ = σ = 5.67e-8     # W/(m²⋅K⁴) Stefan-Bolzmann constant\n"
   ]
  },
  {
   "cell_type": "markdown",
   "metadata": {},
   "source": []
  },
  {
   "attachments": {},
   "cell_type": "markdown",
   "metadata": {},
   "source": [
    "## Desciption of the building\n",
    "inserer photo adri"
   ]
  },
  {
   "attachments": {},
   "cell_type": "markdown",
   "metadata": {},
   "source": [
    "## Thermo-physical properties"
   ]
  },
  {
   "cell_type": "code",
   "execution_count": null,
   "metadata": {},
   "outputs": [],
   "source": [
    "wood = {'Conductivity': 0.06,\n",
    "            'Density': ,\n",
    "            'Specific heat': ,\n",
    "            'Width':0.2 ,\n",
    "            'Surface': S_wall_1+S_wall_2+S_wall_3+S_wall_4\n",
    "             }\n",
    "\n",
    "whool = {'Conductivity': 0.034,\n",
    "              'Density': ,\n",
    "              'Specific heat': ,\n",
    "              'Width':0.25 ,\n",
    "              'Surface': S_wall_1+S_wall_2+S_wall_3+S_wall_4 }\n",
    "\n",
    "glass = {'Conductivity': 1 ,\n",
    "         'Density': ,\n",
    "         'Specific heat': ,\n",
    "         'Width':0.04 ,\n",
    "         'Surface': S_glass}\n",
    "\n",
    "air = {'Conductivity': 0.024 ,\n",
    "         'Density': ,\n",
    "         'Specific heat': ,\n",
    "         'Width':0.1 ,\n",
    "         'Surface': S_glass }   \n",
    "          "
   ]
  },
  {
   "attachments": {},
   "cell_type": "markdown",
   "metadata": {},
   "source": [
    "## Radiative properties"
   ]
  },
  {
   "cell_type": "code",
   "execution_count": null,
   "metadata": {},
   "outputs": [],
   "source": [
    "ε_wLW = 0.85    # long wave emmisivity: wall surface (concrete)\n",
    "ε_gLW = 0.90    # long wave emmisivity: glass pyrex\n",
    "α_wSW = 0.25    # short wave absortivity: white smooth surface\n",
    "α_gSW = 0.38    # short wave absortivity: reflective blue glass\n",
    "τ_gSW = 0.30    # short wave transmitance: reflective blue glass"
   ]
  },
  {
   "attachments": {},
   "cell_type": "markdown",
   "metadata": {},
   "source": [
    "## Thermal circuit\n",
    "Inserer photo\n"
   ]
  },
  {
   "attachments": {},
   "cell_type": "markdown",
   "metadata": {},
   "source": [
    "## Thermal conductances"
   ]
  },
  {
   "attachments": {},
   "cell_type": "markdown",
   "metadata": {},
   "source": [
    "### Conduction"
   ]
  },
  {
   "cell_type": "code",
   "execution_count": null,
   "metadata": {},
   "outputs": [],
   "source": [
    "G_1 = wood['Conductivity'] / wood['Width'] * S_wall_1\n",
    "G_2 = wood['Conductivity'] / wood['Width'] * S_wall_1\n",
    "G_3 = whool['Conductivity'] / whool['Width'] * S_wall_1\n",
    "G_4 = whool['Conductivity'] / whool['Width'] * S_wall_1\n",
    "G_10= wood['Conductivity'] / wood['Width'] * S_wall_2\n",
    "G_17= wood['Conductivity'] / wood['Width'] * S_wall_3\n",
    "G_14= wood['Conductivity'] / wood['Width'] * S_wall_4\n",
    "G_13= glass['Conductivity'] / glass['Width'] * S_glass\n",
    "G_12= glass['Conductivity'] / glass['Width'] * S_glass"
   ]
  },
  {
   "attachments": {},
   "cell_type": "markdown",
   "metadata": {},
   "source": [
    "### Convection"
   ]
  },
  {
   "cell_type": "code",
   "execution_count": null,
   "metadata": {},
   "outputs": [],
   "source": [
    "G_0 = h_out * S_wall_1\n",
    "G_5= h_in * S_wall_1\n",
    "G_11= h_in * S_wall_2\n",
    "G_16= h_in * S_wall_3\n",
    "G_15= h_in * S_wall_4\n"
   ]
  },
  {
   "attachments": {},
   "cell_type": "markdown",
   "metadata": {},
   "source": [
    "### Long wave radiation"
   ]
  },
  {
   "cell_type": "code",
   "execution_count": null,
   "metadata": {},
   "outputs": [],
   "source": [
    "#Long Wave radiation\n",
    "Tm = Tin + 273   # K, mean temp for radiative exchange\n",
    "Fwg = glass['Surface']  / wood['Surface']    # view factor wall-glass\n",
    "\n",
    "#Between window and wall_3\n",
    "G7_1 = 4 * σ * Tm**3 * ε_wLW / (1 - ε_wLW) * S_wall_3\n",
    "G7_12 = 4 * σ * Tm**3 * Fwg * S_wall_3 \n",
    "G7_2 = 4 * σ * Tm**3 * ε_gLW / (1 - ε_gLW) * glass['Surface']\n",
    "G7 = 1 / (1 / G7_1 + 1 / G7_12 + 1 / G7_2) \n",
    "\n",
    "#Between wall_1 and wall_3\n",
    "G8_1 = 4 * σ * Tm**3 * ε_wLW / (1 - ε_wLW) * S_wall_3\n",
    "G8_12 = 4 * σ * Tm**3 * Fwg * S_wall_3 \n",
    "G8_2 = 4 * σ * Tm**3 * ε_gLW / (1 - ε_gLW) * S_wall_1 \n",
    "G8 = 1 / (1 / G8_1 + 1 / G8_12 + 1 / G8_2)"
   ]
  },
  {
   "attachments": {},
   "cell_type": "markdown",
   "metadata": {},
   "source": [
    "## Thermal capacities"
   ]
  },
  {
   "cell_type": "code",
   "execution_count": null,
   "metadata": {},
   "outputs": [],
   "source": [
    "C1 = wood['Density'] * wood['Specific heat'] * wood['Surface'] * wood['Width']      #wood capacity wall 1\n",
    "C2 = whool['Density'] * whool['Specific heat'] * whool['Surface'] * whool['Width']  #whool capacity wall 1"
   ]
  }
 ],
 "metadata": {
  "kernelspec": {
   "display_name": "Python 3",
   "language": "python",
   "name": "python3"
  },
  "language_info": {
   "name": "python",
   "version": "3.10.7"
  },
  "orig_nbformat": 4
 },
 "nbformat": 4,
 "nbformat_minor": 2
}
