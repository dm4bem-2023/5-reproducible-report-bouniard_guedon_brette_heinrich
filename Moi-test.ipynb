{
 "cells": [
  {
   "attachments": {},
   "cell_type": "markdown",
   "metadata": {},
   "source": []
  },
  {
   "attachments": {},
   "cell_type": "markdown",
   "metadata": {},
   "source": [
    "## Dimensions of the building\n",
    "\n",
    "Here, we compute the dimensions of our 2 rooms:\n",
    "we have chosen to take into account only one wall in contact with the rest of the chalet and one wall with the 2m² window in contact with the outside"
   ]
  },
  {
   "cell_type": "code",
   "execution_count": null,
   "metadata": {},
   "outputs": [],
   "source": [
    "l_br=3 #lenght of the bedroom\n",
    "L_br=4 #width of the bedroom\n",
    "l_d= 3 #lenght of the dressing\n",
    "L_d= 2 #width of the dressing\n",
    "height= 3   #height under ceiling\n",
    "\n",
    "S_br= l_br*L_br  #total surface bedroom\n",
    "S_d= l_d*L_d    #total surface dressing\n",
    "\n",
    "S_glass= 2   # surface of the glass taken into account in the study\n",
    "S_wall_2= L_br*h + l_br*h - S_glass # surface of the wall of the bedrooom taken into account in the study\n",
    "S_wall_1=l_d*L_d  # surface of the wall of the dressing \n",
    "\n",
    "# thermal conductivity, W/(m·K);\n",
    "lambdabois=0.06 # wood\n",
    "lambdaverre=1   # glass\n",
    "lambdaair=0.024 # air\n",
    "lambdalaine = 0.034 # whool\n",
    "\n",
    "# épaisseurs\n",
    "everre=0.04 \n",
    "eair=0.1\n",
    "elaine=0.25\n",
    "ebois=0.2\n",
    "\n",
    "# surfaces\n",
    "Smur1 = 9\n",
    "Smur2=12\n",
    "Sfenetre=2\n",
    "\n",
    "# radiative properties\n",
    "ε_wLW = 0.85    # long wave emmisivity: wall surface (concrete)\n",
    "ε_gLW = 0.90    # long wave emmisivity: glass pyrex\n",
    "α_wSW = 0.25    # short wave absortivity: white smooth surface\n",
    "α_gSW = 0.38    # short wave absortivity: reflective blue glass\n",
    "τ_gSW = 0.30    # short wave transmitance: reflective blue glass\n",
    "\n",
    "h = pd.DataFrame([{'in': 8., 'out': 25}], index=['h'])  #convection coefficient, W/m² K;\n",
    "Tin = 20    #temperature inside, K;\n",
    "σ = σ = 5.67e-8     # W/(m²⋅K⁴) Stefan-Bolzmann constant\n"
   ]
  },
  {
   "attachments": {},
   "cell_type": "markdown",
   "metadata": {},
   "source": [
    "## Desciption of the building\n",
    "inserer photo adri"
   ]
  },
  {
   "attachments": {},
   "cell_type": "markdown",
   "metadata": {},
   "source": [
    "## Thermo-physical properties"
   ]
  },
  {
   "cell_type": "code",
   "execution_count": null,
   "metadata": {},
   "outputs": [],
   "source": [
    "wood = {'Conductivity': 0.06,\n",
    "            'Density': ,\n",
    "            'Specific heat': ,\n",
    "            'Width':0.2 ,\n",
    "            'Surface': S_wall }\n",
    "\n",
    "whool = {'Conductivity': 0.034,\n",
    "              'Density': ,\n",
    "              'Specific heat': ,\n",
    "              'Width':0.25 ,\n",
    "              'Surface': S_wall }\n",
    "\n",
    "glass = {'Conductivity': 1 ,\n",
    "         'Density': ,\n",
    "         'Specific heat': ,\n",
    "         'Width':0.04 ,\n",
    "         'Surface': S_glass}\n",
    "\n",
    "air = {'Conductivity': 0.024 ,\n",
    "         'Density': ,\n",
    "         'Specific heat': ,\n",
    "         'Width':0.1 ,\n",
    "         'Surface': S_glass }         "
   ]
  },
  {
   "attachments": {},
   "cell_type": "markdown",
   "metadata": {},
   "source": [
    "## Thermal circuit\n",
    "Inserer photo\n"
   ]
  },
  {
   "attachments": {},
   "cell_type": "markdown",
   "metadata": {},
   "source": [
    "### Thermal capacities"
   ]
  },
  {
   "cell_type": "code",
   "execution_count": null,
   "metadata": {},
   "outputs": [],
   "source": [
    "R_wall_1=2*wood['Width']/(wood['Conductivity']*(S_wall_1))+whool['Width']/(whool['Conductivity']*S_wall_1)\n",
    "R_wall_2=2*wood['Width']/(wood['Conductivity']*(S_wall_2))+whool['Width']/(whool['Conductivity']*S_wall_2)\n",
    "R_window= 3*glass['Width']/(glass['Conductivity']*S_glass)+2*air['Width']/(air['Conductivity'*S_glass)\n",
    "Rcond1=2/(h*S_wall_2)\n",
    "Rcond1=2/(h*S_wall_1)\n",
    "Rcond_window=2/(h*S_glass)\n",
    "\n"
   ]
  }
 ],
 "metadata": {
  "kernelspec": {
   "display_name": "Python 3",
   "language": "python",
   "name": "python3"
  },
  "language_info": {
   "name": "python",
   "version": "3.10.7"
  },
  "orig_nbformat": 4
 },
 "nbformat": 4,
 "nbformat_minor": 2
}
