{
 "cells": [
  {
   "attachments": {},
   "cell_type": "markdown",
   "metadata": {},
   "source": [
    "Matrix expression for algebraic-differential equations (DAE)"
   ]
  },
  {
   "cell_type": "markdown",
   "metadata": {},
   "source": [
    "Variables"
   ]
  },
  {
   "cell_type": "code",
   "execution_count": 24,
   "metadata": {},
   "outputs": [],
   "source": [
    "#Conductance\n",
    "G0 = 1\n",
    "G1 = 7\n",
    "G2 = 3\n",
    "G3 = 8\n",
    "G4 = 10\n",
    "G5 = 7\n",
    "G6 = 174\n",
    "G7 = 7\n",
    "G8 = 78\n",
    "G9 = 2\n",
    "G10 = 41\n",
    "G11 = 41\n",
    "G12 = 78\n",
    "G13 = 12\n",
    "G14 = 85\n",
    "G15 = 78\n",
    "G16 = 78\n",
    "G17 = 96\n",
    "\n",
    "#Capicity\n",
    "C1 = 4500\n",
    "C3 = 74\n",
    "\n",
    "#TemperatureSource\n",
    "Ti0 = 10\n",
    "Tin = 20\n",
    "\n",
    "#HeatFlowSource\n",
    "Phi0 = 540\n",
    "Phia = 874"
   ]
  },
  {
   "attachments": {},
   "cell_type": "markdown",
   "metadata": {},
   "source": [
    "A: Incidence matrix"
   ]
  },
  {
   "cell_type": "code",
   "execution_count": 25,
   "metadata": {},
   "outputs": [],
   "source": [
    "import numpy as np\n",
    "nq = 18                         # n° of branches\n",
    "n0 = 13                         # n° of nodes\n",
    "A = np.zeros([nq,n0])             # n° of branches X n° of nodes\n",
    "A[0, 0] = 1                     # branch 0: -> node 0\n",
    "A[1, 0], A[1, 1] = -1, 1        # branch 1: node 0 -> node 1\n",
    "A[2, 1], A[2, 2] = -1, 1        # branch 2: node 1 -> node 2\n",
    "A[3, 2], A[3, 3] = -1, 1        # branch 3: node 2 -> node 3\n",
    "A[4, 3], A[4, 4] = -1, 1        # branch 4: node 3 -> node 4\n",
    "A[5, 4], A[5, 5] = -1, 1        # branch 5: node 4 -> node 5\n",
    "A[6, 5], A[6, 6] = -1, 1        # branch 6: node 5 -> node 6\n",
    "A[7, 6], A[7, 7] = -1, 1        # branch 7: node 6 -> node 7\n",
    "A[8, 4], A[8, 6] = -1, 1        # branch 8: node 4 -> node 6\n",
    "A[9, 5], A[9, 7] =  1,-1        # branch 9: node 7 -> node 5\n",
    "A[10, 8] = 1                    # branch 10: -> node 8\n",
    "A[11, 5], A[11, 8] = 1, -1      # branch 11: node 8 -> node 5\n",
    "A[12, 9] = 1                    # branch 12: -> node 9\n",
    "A[13, 7], A[13, 9] = 1, -1      # branch 13: node 9 -> node 7\n",
    "A[14, 12] = 1                   # branch 14: -> node 12\n",
    "A[15, 11], A[15, 12] = 1, -1    # branch 15: node 12 -> node 11  \n",
    "A[16, 10], A[16, 11] = 1, -1    # branch 16: node 11 -> node 10\n",
    "A[17, 6], A[17, 10] = 1, -1     # branch 17: node 10 -> node 6"
   ]
  },
  {
   "attachments": {},
   "cell_type": "markdown",
   "metadata": {},
   "source": [
    "G: Conductance matrix"
   ]
  },
  {
   "cell_type": "code",
   "execution_count": 26,
   "metadata": {},
   "outputs": [],
   "source": [
    "G = np.diag(np.hstack([G0,G1,G2,G3,G4,G5,G6,G7,G8,G9,G10,G11,G12,G13,G14,G15,G16,G17]))"
   ]
  },
  {
   "attachments": {},
   "cell_type": "markdown",
   "metadata": {},
   "source": [
    "C: Capacity matrix"
   ]
  },
  {
   "cell_type": "code",
   "execution_count": 27,
   "metadata": {},
   "outputs": [],
   "source": [
    "C = np.diag(np.hstack([0,C1,0,C3,0,0,0,0,0,0,0,0,0]))"
   ]
  },
  {
   "attachments": {},
   "cell_type": "markdown",
   "metadata": {},
   "source": [
    "Teta: Temperature vector"
   ]
  },
  {
   "cell_type": "code",
   "execution_count": 28,
   "metadata": {},
   "outputs": [],
   "source": [
    "Teta = np.zeros([n0,1])"
   ]
  },
  {
   "attachments": {},
   "cell_type": "markdown",
   "metadata": {},
   "source": [
    "b: Temperature source vector"
   ]
  },
  {
   "cell_type": "code",
   "execution_count": 29,
   "metadata": {},
   "outputs": [],
   "source": [
    "b = np.zeros([nq,1])\n",
    "b[0] = Ti0\n",
    "b[8] = Tin\n",
    "b[9] = Ti0\n",
    "b[12] = Tin"
   ]
  },
  {
   "attachments": {},
   "cell_type": "markdown",
   "metadata": {},
   "source": [
    "f: Heat flow source vector"
   ]
  },
  {
   "cell_type": "code",
   "execution_count": 30,
   "metadata": {},
   "outputs": [],
   "source": [
    "f = np.zeros([n0,1])\n",
    "f[0] = Phi0\n",
    "f[9] = Phia"
   ]
  },
  {
   "attachments": {},
   "cell_type": "markdown",
   "metadata": {},
   "source": [
    "q: Heat flow vector"
   ]
  },
  {
   "cell_type": "code",
   "execution_count": 31,
   "metadata": {},
   "outputs": [],
   "source": [
    "q = np.zeros([nq,1])"
   ]
  },
  {
   "attachments": {},
   "cell_type": "markdown",
   "metadata": {},
   "source": [
    "Computation of Teta:"
   ]
  },
  {
   "cell_type": "code",
   "execution_count": 32,
   "metadata": {},
   "outputs": [
    {
     "name": "stdout",
     "output_type": "stream",
     "text": [
      "θ = [[224.67024295]\n",
      " [178.19456337]\n",
      " [ 69.75131102]\n",
      " [ 29.08509139]\n",
      " [ -3.44788432]\n",
      " [  9.75670375]\n",
      " [ 11.19619423]\n",
      " [ 20.74330415]\n",
      " [  4.87835188]\n",
      " [ 29.81021833]\n",
      " [  8.7574411 ]\n",
      " [  5.75589879]\n",
      " [  2.75435647]] °C\n"
     ]
    }
   ],
   "source": [
    "Teta = np.linalg.inv(A.T @ G @ A) @ (A.T @ G @ b + f)\n",
    "print(f'θ = {Teta} °C')"
   ]
  },
  {
   "attachments": {},
   "cell_type": "markdown",
   "metadata": {},
   "source": [
    "Computation of q:"
   ]
  },
  {
   "cell_type": "code",
   "execution_count": 34,
   "metadata": {},
   "outputs": [
    {
     "name": "stdout",
     "output_type": "stream",
     "text": [
      "q = [[-214.67024295]\n",
      " [ 325.32975705]\n",
      " [ 325.32975705]\n",
      " [ 325.32975705]\n",
      " [ 325.32975705]\n",
      " [ -92.43211649]\n",
      " [-250.47134263]\n",
      " [ -66.82976943]\n",
      " [ 417.76187354]\n",
      " [  41.97320079]\n",
      " [-200.01242693]\n",
      " [-200.01242693]\n",
      " [-765.19702978]\n",
      " [ 108.80297022]\n",
      " [-234.12030034]\n",
      " [-234.12030034]\n",
      " [-234.12030034]\n",
      " [-234.12030034]] W\n"
     ]
    }
   ],
   "source": [
    "q = G @ (-A @ Teta+b)\n",
    "print(f'q = {q} W')"
   ]
  }
 ],
 "metadata": {
  "kernelspec": {
   "display_name": "Python 3.9.13 ('base')",
   "language": "python",
   "name": "python3"
  },
  "language_info": {
   "codemirror_mode": {
    "name": "ipython",
    "version": 3
   },
   "file_extension": ".py",
   "mimetype": "text/x-python",
   "name": "python",
   "nbconvert_exporter": "python",
   "pygments_lexer": "ipython3",
   "version": "3.9.13"
  },
  "orig_nbformat": 4,
  "vscode": {
   "interpreter": {
    "hash": "ad2bdc8ecc057115af97d19610ffacc2b4e99fae6737bb82f5d7fb13d2f2c186"
   }
  }
 },
 "nbformat": 4,
 "nbformat_minor": 2
}
