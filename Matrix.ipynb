{
 "cells": [
  {
   "attachments": {},
   "cell_type": "markdown",
   "metadata": {},
   "source": [
    "Matrix expression for algebraic-differential equations (DAE)"
   ]
  },
  {
   "attachments": {},
   "cell_type": "markdown",
   "metadata": {},
   "source": [
    "A: Incidence matrix"
   ]
  },
  {
   "cell_type": "code",
   "execution_count": null,
   "metadata": {},
   "outputs": [],
   "source": [
    "import numpy as np\n",
    "nq = 18                         # n° of branches\n",
    "n0 = 13                         # n° of nodes\n",
    "A = np.zeros(nq,n0)             # n° of branches X n° of nodes\n",
    "A[0, 0] = 1                     # branch 0: -> node 0\n",
    "A[1, 0], A[1, 1] = -1, 1        # branch 1: node 0 -> node 1\n",
    "A[2, 1], A[2, 2] = -1, 1        # branch 2: node 1 -> node 2\n",
    "A[3, 2], A[3, 3] = -1, 1        # branch 3: node 2 -> node 3\n",
    "A[4, 3], A[4, 4] = -1, 1        # branch 4: node 3 -> node 4\n",
    "A[5, 4], A[5, 5] = -1, 1        # branch 5: node 4 -> node 5\n",
    "A[6, 5], A[6, 6] = -1, 1        # branch 6: node 5 -> node 6\n",
    "A[7, 6], A[7, 7] = -1, 1        # branch 7: node 6 -> node 7\n",
    "A[8, 4], A[8, 6] = -1, 1        # branch 8: node 4 -> node 6\n",
    "A[9, 5], A[9, 7] =  1,-1        # branch 9: node 7 -> node 5\n",
    "A[10, 8] = 1                    # branch 10: -> node 8\n",
    "A[11, 5], A[11, 8] = 1, -1      # branch 11: node 8 -> node 5\n",
    "A[12, 9] = 1                    # branch 12: -> node 9\n",
    "A[13, 7], A[13, 9] = 1, -1      # branch 13: node 9 -> node 7\n",
    "A[14, 12] = 1                   # branch 14: -> node 12\n",
    "A[15, 11], A[15, 12] = 1, -1    # branch 15: node 12 -> node 11  \n",
    "A[16, 10], A[16, 11] = 1, -1    # branch 16: node 11 -> node 10\n",
    "A[17, 6], A[17, 10] = 1, -1     # branch 17: node 10 -> node 6"
   ]
  },
  {
   "attachments": {},
   "cell_type": "markdown",
   "metadata": {},
   "source": [
    "G: Conductance matrix"
   ]
  },
  {
   "cell_type": "code",
   "execution_count": null,
   "metadata": {},
   "outputs": [],
   "source": [
    "G = np.diag(G0,G1,G2,G3,G4,G5,G6,G7,G8,G9,G10,G11,G12,G13,G14,G15,G16,G17)"
   ]
  },
  {
   "attachments": {},
   "cell_type": "markdown",
   "metadata": {},
   "source": [
    "C: Capacity matrix"
   ]
  },
  {
   "cell_type": "code",
   "execution_count": null,
   "metadata": {},
   "outputs": [],
   "source": [
    "C = np.diag(0,C1,0,C3,0,0,0,0,0,0,0,0,0)"
   ]
  },
  {
   "attachments": {},
   "cell_type": "markdown",
   "metadata": {},
   "source": [
    "Teta: Temperature vector"
   ]
  },
  {
   "cell_type": "code",
   "execution_count": null,
   "metadata": {},
   "outputs": [],
   "source": [
    "Teta = np.zeros(n0,1)"
   ]
  },
  {
   "attachments": {},
   "cell_type": "markdown",
   "metadata": {},
   "source": [
    "b: Temperature source vector"
   ]
  },
  {
   "cell_type": "code",
   "execution_count": null,
   "metadata": {},
   "outputs": [],
   "source": [
    "b = np.zeros(nq,1)\n",
    "b[0] = Ti0\n",
    "b[8] = Tin\n",
    "b[9] = Ti0\n",
    "b[12] = Tin"
   ]
  },
  {
   "attachments": {},
   "cell_type": "markdown",
   "metadata": {},
   "source": [
    "f: Heat flow source vector"
   ]
  },
  {
   "cell_type": "code",
   "execution_count": null,
   "metadata": {},
   "outputs": [],
   "source": [
    "f = np.zeros(n0,1)\n",
    "f[0] = Phi0\n",
    "f[9] = Phia"
   ]
  },
  {
   "attachments": {},
   "cell_type": "markdown",
   "metadata": {},
   "source": [
    "q: Heat flow vector"
   ]
  },
  {
   "cell_type": "code",
   "execution_count": null,
   "metadata": {},
   "outputs": [],
   "source": [
    "q = np.zeros(nq,1)"
   ]
  },
  {
   "attachments": {},
   "cell_type": "markdown",
   "metadata": {},
   "source": [
    "Computation of Teta:"
   ]
  },
  {
   "cell_type": "code",
   "execution_count": null,
   "metadata": {},
   "outputs": [],
   "source": [
    "Teta = (np.inv(((np.transpose(A)).dot(G)).dot(A))).dot(((np.transpose(A)).dot(G).dot(b))+f)"
   ]
  },
  {
   "attachments": {},
   "cell_type": "markdown",
   "metadata": {},
   "source": [
    "Computation of q:"
   ]
  },
  {
   "cell_type": "code",
   "execution_count": null,
   "metadata": {},
   "outputs": [],
   "source": [
    "q = G.dot(-A.dot(Teta)+b)"
   ]
  }
 ],
 "metadata": {
  "language_info": {
   "name": "python"
  },
  "orig_nbformat": 4
 },
 "nbformat": 4,
 "nbformat_minor": 2
}
